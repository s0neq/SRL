{
 "cells": [
  {
   "cell_type": "markdown",
   "metadata": {},
   "source": [
    "### все импорты"
   ]
  },
  {
   "cell_type": "code",
   "execution_count": 31,
   "metadata": {
    "collapsed": true
   },
   "outputs": [
    {
     "name": "stdout",
     "output_type": "stream",
     "text": [
      "Collecting dataframe_image\n",
      "  Downloading dataframe_image-0.1.1-py3-none-any.whl (32 kB)\n",
      "Requirement already satisfied: requests in d:\\anaconda3\\lib\\site-packages (from dataframe_image) (2.24.0)\n",
      "Collecting aiohttp\n",
      "  Downloading aiohttp-3.7.4.post0-cp38-cp38-win_amd64.whl (635 kB)\n",
      "Requirement already satisfied: pandas>=0.24 in d:\\anaconda3\\lib\\site-packages (from dataframe_image) (1.1.3)\n",
      "Requirement already satisfied: nbconvert>=5 in d:\\anaconda3\\lib\\site-packages (from dataframe_image) (6.0.7)\n",
      "Requirement already satisfied: matplotlib>=3.1 in d:\\anaconda3\\lib\\site-packages (from dataframe_image) (3.3.2)\n",
      "Requirement already satisfied: beautifulsoup4 in d:\\anaconda3\\lib\\site-packages (from dataframe_image) (4.9.3)\n",
      "Requirement already satisfied: certifi>=2017.4.17 in d:\\anaconda3\\lib\\site-packages (from requests->dataframe_image) (2020.6.20)\n",
      "Requirement already satisfied: chardet<4,>=3.0.2 in d:\\anaconda3\\lib\\site-packages (from requests->dataframe_image) (3.0.4)\n",
      "Requirement already satisfied: idna<3,>=2.5 in d:\\anaconda3\\lib\\site-packages (from requests->dataframe_image) (2.10)\n",
      "Requirement already satisfied: urllib3!=1.25.0,!=1.25.1,<1.26,>=1.21.1 in d:\\anaconda3\\lib\\site-packages (from requests->dataframe_image) (1.25.11)\n",
      "Collecting yarl<2.0,>=1.0\n",
      "  Downloading yarl-1.6.3-cp38-cp38-win_amd64.whl (125 kB)\n",
      "Collecting multidict<7.0,>=4.5\n",
      "  Downloading multidict-5.1.0-cp38-cp38-win_amd64.whl (48 kB)\n",
      "Requirement already satisfied: attrs>=17.3.0 in d:\\anaconda3\\lib\\site-packages (from aiohttp->dataframe_image) (20.3.0)\n",
      "Requirement already satisfied: typing-extensions>=3.6.5 in d:\\anaconda3\\lib\\site-packages (from aiohttp->dataframe_image) (3.7.4.3)\n",
      "Collecting async-timeout<4.0,>=3.0\n",
      "  Downloading async_timeout-3.0.1-py3-none-any.whl (8.2 kB)\n",
      "Requirement already satisfied: pytz>=2017.2 in d:\\anaconda3\\lib\\site-packages (from pandas>=0.24->dataframe_image) (2020.1)\n",
      "Requirement already satisfied: numpy>=1.15.4 in d:\\anaconda3\\lib\\site-packages (from pandas>=0.24->dataframe_image) (1.19.2)\n",
      "Requirement already satisfied: python-dateutil>=2.7.3 in d:\\anaconda3\\lib\\site-packages (from pandas>=0.24->dataframe_image) (2.8.1)\n",
      "Requirement already satisfied: jinja2>=2.4 in d:\\anaconda3\\lib\\site-packages (from nbconvert>=5->dataframe_image) (2.11.2)\n",
      "Requirement already satisfied: nbclient<0.6.0,>=0.5.0 in d:\\anaconda3\\lib\\site-packages (from nbconvert>=5->dataframe_image) (0.5.1)\n",
      "Requirement already satisfied: mistune<2,>=0.8.1 in d:\\anaconda3\\lib\\site-packages (from nbconvert>=5->dataframe_image) (0.8.4)\n",
      "Requirement already satisfied: nbformat>=4.4 in d:\\anaconda3\\lib\\site-packages (from nbconvert>=5->dataframe_image) (5.0.8)\n",
      "Requirement already satisfied: defusedxml in d:\\anaconda3\\lib\\site-packages (from nbconvert>=5->dataframe_image) (0.6.0)\n",
      "Requirement already satisfied: jupyterlab-pygments in d:\\anaconda3\\lib\\site-packages (from nbconvert>=5->dataframe_image) (0.1.2)\n",
      "Requirement already satisfied: pandocfilters>=1.4.1 in d:\\anaconda3\\lib\\site-packages (from nbconvert>=5->dataframe_image) (1.4.3)\n",
      "Requirement already satisfied: testpath in d:\\anaconda3\\lib\\site-packages (from nbconvert>=5->dataframe_image) (0.4.4)\n",
      "Requirement already satisfied: entrypoints>=0.2.2 in d:\\anaconda3\\lib\\site-packages (from nbconvert>=5->dataframe_image) (0.3)\n",
      "Requirement already satisfied: traitlets>=4.2 in d:\\anaconda3\\lib\\site-packages (from nbconvert>=5->dataframe_image) (5.0.5)\n",
      "Requirement already satisfied: bleach in d:\\anaconda3\\lib\\site-packages (from nbconvert>=5->dataframe_image) (3.2.1)\n",
      "Requirement already satisfied: jupyter-core in d:\\anaconda3\\lib\\site-packages (from nbconvert>=5->dataframe_image) (4.6.3)\n",
      "Requirement already satisfied: pygments>=2.4.1 in d:\\anaconda3\\lib\\site-packages (from nbconvert>=5->dataframe_image) (2.7.2)\n",
      "Requirement already satisfied: pyparsing!=2.0.4,!=2.1.2,!=2.1.6,>=2.0.3 in d:\\anaconda3\\lib\\site-packages (from matplotlib>=3.1->dataframe_image) (2.4.7)\n",
      "Requirement already satisfied: pillow>=6.2.0 in d:\\anaconda3\\lib\\site-packages (from matplotlib>=3.1->dataframe_image) (8.0.1)\n",
      "Requirement already satisfied: kiwisolver>=1.0.1 in d:\\anaconda3\\lib\\site-packages (from matplotlib>=3.1->dataframe_image) (1.3.0)\n",
      "Requirement already satisfied: cycler>=0.10 in d:\\anaconda3\\lib\\site-packages (from matplotlib>=3.1->dataframe_image) (0.10.0)\n",
      "Requirement already satisfied: soupsieve>1.2; python_version >= \"3.0\" in d:\\anaconda3\\lib\\site-packages (from beautifulsoup4->dataframe_image) (2.0.1)\n",
      "Requirement already satisfied: six>=1.5 in d:\\anaconda3\\lib\\site-packages (from python-dateutil>=2.7.3->pandas>=0.24->dataframe_image) (1.15.0)\n",
      "Requirement already satisfied: MarkupSafe>=0.23 in d:\\anaconda3\\lib\\site-packages (from jinja2>=2.4->nbconvert>=5->dataframe_image) (1.1.1)\n",
      "Requirement already satisfied: jupyter-client>=6.1.5 in d:\\anaconda3\\lib\\site-packages (from nbclient<0.6.0,>=0.5.0->nbconvert>=5->dataframe_image) (6.1.7)\n",
      "Requirement already satisfied: async-generator in d:\\anaconda3\\lib\\site-packages (from nbclient<0.6.0,>=0.5.0->nbconvert>=5->dataframe_image) (1.10)\n",
      "Requirement already satisfied: nest-asyncio in d:\\anaconda3\\lib\\site-packages (from nbclient<0.6.0,>=0.5.0->nbconvert>=5->dataframe_image) (1.4.2)\n",
      "Requirement already satisfied: ipython-genutils in d:\\anaconda3\\lib\\site-packages (from nbformat>=4.4->nbconvert>=5->dataframe_image) (0.2.0)\n",
      "Requirement already satisfied: jsonschema!=2.5.0,>=2.4 in d:\\anaconda3\\lib\\site-packages (from nbformat>=4.4->nbconvert>=5->dataframe_image) (3.2.0)\n",
      "Requirement already satisfied: packaging in d:\\anaconda3\\lib\\site-packages (from bleach->nbconvert>=5->dataframe_image) (20.4)\n",
      "Requirement already satisfied: webencodings in d:\\anaconda3\\lib\\site-packages (from bleach->nbconvert>=5->dataframe_image) (0.5.1)\n",
      "Requirement already satisfied: pywin32>=1.0; sys_platform == \"win32\" in d:\\anaconda3\\lib\\site-packages (from jupyter-core->nbconvert>=5->dataframe_image) (227)\n",
      "Requirement already satisfied: pyzmq>=13 in d:\\anaconda3\\lib\\site-packages (from jupyter-client>=6.1.5->nbclient<0.6.0,>=0.5.0->nbconvert>=5->dataframe_image) (19.0.2)\n",
      "Requirement already satisfied: tornado>=4.1 in d:\\anaconda3\\lib\\site-packages (from jupyter-client>=6.1.5->nbclient<0.6.0,>=0.5.0->nbconvert>=5->dataframe_image) (6.0.4)\n",
      "Requirement already satisfied: setuptools in d:\\anaconda3\\lib\\site-packages (from jsonschema!=2.5.0,>=2.4->nbformat>=4.4->nbconvert>=5->dataframe_image) (50.3.1.post20201107)\n",
      "Requirement already satisfied: pyrsistent>=0.14.0 in d:\\anaconda3\\lib\\site-packages (from jsonschema!=2.5.0,>=2.4->nbformat>=4.4->nbconvert>=5->dataframe_image) (0.17.3)\n",
      "Installing collected packages: multidict, yarl, async-timeout, aiohttp, dataframe-image\n",
      "Successfully installed aiohttp-3.7.4.post0 async-timeout-3.0.1 dataframe-image-0.1.1 multidict-5.1.0 yarl-1.6.3\n"
     ]
    }
   ],
   "source": [
    "! pip install dataframe_image"
   ]
  },
  {
   "cell_type": "code",
   "execution_count": 1,
   "metadata": {},
   "outputs": [],
   "source": [
    "import os, json\n",
    "import pandas as pd\n",
    "import numpy as np\n",
    "\n",
    "from tqdm import tqdm\n",
    "from datetime import datetime\n",
    "import time\n",
    "\n",
    "from sklearn import preprocessing  # там OneHotEncoder\n",
    "from sklearn.feature_extraction.text import CountVectorizer\n",
    "from sklearn.feature_extraction.text import TfidfVectorizer\n",
    "from sklearn.model_selection import train_test_split\n",
    "from sklearn import ensemble\n",
    "from sklearn import metrics\n",
    "import pickle\n",
    "import seaborn as sns\n",
    "\n",
    "import dataframe_image as dfi\n",
    "\n",
    "from sklearn.neighbors import KNeighborsClassifier\n"
   ]
  },
  {
   "cell_type": "code",
   "execution_count": 2,
   "metadata": {},
   "outputs": [],
   "source": [
    "big_df = pd.read_csv('big_df2_most_recent_features.tsv', sep='\\t')  "
   ]
  },
  {
   "cell_type": "code",
   "execution_count": 3,
   "metadata": {},
   "outputs": [
    {
     "data": {
      "text/plain": [
       "Index(['Role', 'Rank', 'Last_word', 'pos', 'case', 'gender', 'animacy',\n",
       "       'number', 'lemma', 'link_name', 't', 'r', 'left_context',\n",
       "       'right_context'],\n",
       "      dtype='object')"
      ]
     },
     "execution_count": 3,
     "metadata": {},
     "output_type": "execute_result"
    }
   ],
   "source": [
    "big_df.columns"
   ]
  },
  {
   "cell_type": "code",
   "execution_count": 7,
   "metadata": {
    "collapsed": true
   },
   "outputs": [
    {
     "data": {
      "text/html": [
       "<div>\n",
       "<style scoped>\n",
       "    .dataframe tbody tr th:only-of-type {\n",
       "        vertical-align: middle;\n",
       "    }\n",
       "\n",
       "    .dataframe tbody tr th {\n",
       "        vertical-align: top;\n",
       "    }\n",
       "\n",
       "    .dataframe thead th {\n",
       "        text-align: right;\n",
       "    }\n",
       "</style>\n",
       "<table border=\"1\" class=\"dataframe\">\n",
       "  <thead>\n",
       "    <tr style=\"text-align: right;\">\n",
       "      <th></th>\n",
       "      <th>lemma</th>\n",
       "    </tr>\n",
       "    <tr>\n",
       "      <th>Role</th>\n",
       "      <th></th>\n",
       "    </tr>\n",
       "  </thead>\n",
       "  <tbody>\n",
       "    <tr>\n",
       "      <th>агенс</th>\n",
       "      <td>1194</td>\n",
       "    </tr>\n",
       "    <tr>\n",
       "      <th>адресат</th>\n",
       "      <td>238</td>\n",
       "    </tr>\n",
       "    <tr>\n",
       "      <th>атрибут</th>\n",
       "      <td>20</td>\n",
       "    </tr>\n",
       "    <tr>\n",
       "      <th>валидность</th>\n",
       "      <td>1</td>\n",
       "    </tr>\n",
       "    <tr>\n",
       "      <th>вводное</th>\n",
       "      <td>1</td>\n",
       "    </tr>\n",
       "    <tr>\n",
       "      <th>вероятность</th>\n",
       "      <td>2</td>\n",
       "    </tr>\n",
       "    <tr>\n",
       "      <th>возможность</th>\n",
       "      <td>1</td>\n",
       "    </tr>\n",
       "    <tr>\n",
       "      <th>время</th>\n",
       "      <td>703</td>\n",
       "    </tr>\n",
       "    <tr>\n",
       "      <th>дейксис</th>\n",
       "      <td>1</td>\n",
       "    </tr>\n",
       "    <tr>\n",
       "      <th>депиктив</th>\n",
       "      <td>25</td>\n",
       "    </tr>\n",
       "    <tr>\n",
       "      <th>дискурс</th>\n",
       "      <td>9</td>\n",
       "    </tr>\n",
       "    <tr>\n",
       "      <th>документ</th>\n",
       "      <td>1</td>\n",
       "    </tr>\n",
       "    <tr>\n",
       "      <th>дополнитель</th>\n",
       "      <td>1</td>\n",
       "    </tr>\n",
       "    <tr>\n",
       "      <th>заместитель</th>\n",
       "      <td>4</td>\n",
       "    </tr>\n",
       "    <tr>\n",
       "      <th>инструмент</th>\n",
       "      <td>859</td>\n",
       "    </tr>\n",
       "    <tr>\n",
       "      <th>интерпретация</th>\n",
       "      <td>1</td>\n",
       "    </tr>\n",
       "    <tr>\n",
       "      <th>источник запаха</th>\n",
       "      <td>12</td>\n",
       "    </tr>\n",
       "    <tr>\n",
       "      <th>источник звука</th>\n",
       "      <td>41</td>\n",
       "    </tr>\n",
       "    <tr>\n",
       "      <th>источник света</th>\n",
       "      <td>24</td>\n",
       "    </tr>\n",
       "    <tr>\n",
       "      <th>качество</th>\n",
       "      <td>3</td>\n",
       "    </tr>\n",
       "    <tr>\n",
       "      <th>количество</th>\n",
       "      <td>4</td>\n",
       "    </tr>\n",
       "    <tr>\n",
       "      <th>комитатив</th>\n",
       "      <td>48</td>\n",
       "    </tr>\n",
       "    <tr>\n",
       "      <th>конечная ситуация</th>\n",
       "      <td>1</td>\n",
       "    </tr>\n",
       "    <tr>\n",
       "      <th>контейнер</th>\n",
       "      <td>6</td>\n",
       "    </tr>\n",
       "    <tr>\n",
       "      <th>кореферентно x</th>\n",
       "      <td>3</td>\n",
       "    </tr>\n",
       "    <tr>\n",
       "      <th>лидер</th>\n",
       "      <td>1</td>\n",
       "    </tr>\n",
       "    <tr>\n",
       "      <th>ментальный</th>\n",
       "      <td>1</td>\n",
       "    </tr>\n",
       "    <tr>\n",
       "      <th>место</th>\n",
       "      <td>3114</td>\n",
       "    </tr>\n",
       "    <tr>\n",
       "      <th>намерение</th>\n",
       "      <td>1</td>\n",
       "    </tr>\n",
       "    <tr>\n",
       "      <th>носитель информации</th>\n",
       "      <td>31</td>\n",
       "    </tr>\n",
       "    <tr>\n",
       "      <th>носитель признака</th>\n",
       "      <td>2</td>\n",
       "    </tr>\n",
       "    <tr>\n",
       "      <th>объект подозрения</th>\n",
       "      <td>1</td>\n",
       "    </tr>\n",
       "    <tr>\n",
       "      <th>одежда</th>\n",
       "      <td>2</td>\n",
       "    </tr>\n",
       "    <tr>\n",
       "      <th>одновременность</th>\n",
       "      <td>29</td>\n",
       "    </tr>\n",
       "    <tr>\n",
       "      <th>ожидаемость</th>\n",
       "      <td>1</td>\n",
       "    </tr>\n",
       "    <tr>\n",
       "      <th>основание</th>\n",
       "      <td>2</td>\n",
       "    </tr>\n",
       "    <tr>\n",
       "      <th>оценка</th>\n",
       "      <td>4</td>\n",
       "    </tr>\n",
       "    <tr>\n",
       "      <th>оценка последствий</th>\n",
       "      <td>1</td>\n",
       "    </tr>\n",
       "    <tr>\n",
       "      <th>параметр</th>\n",
       "      <td>93</td>\n",
       "    </tr>\n",
       "    <tr>\n",
       "      <th>пациенс</th>\n",
       "      <td>7813</td>\n",
       "    </tr>\n",
       "  </tbody>\n",
       "</table>\n",
       "</div>"
      ],
      "text/plain": [
       "                     lemma\n",
       "Role                      \n",
       "агенс                 1194\n",
       "адресат                238\n",
       "атрибут                 20\n",
       "валидность               1\n",
       "вводное                  1\n",
       "вероятность              2\n",
       "возможность              1\n",
       "время                  703\n",
       "дейксис                  1\n",
       "депиктив                25\n",
       "дискурс                  9\n",
       "документ                 1\n",
       "дополнитель              1\n",
       "заместитель              4\n",
       "инструмент             859\n",
       "интерпретация            1\n",
       "источник запаха         12\n",
       "источник звука          41\n",
       "источник света          24\n",
       "качество                 3\n",
       "количество               4\n",
       "комитатив               48\n",
       "конечная ситуация        1\n",
       "контейнер                6\n",
       "кореферентно x           3\n",
       "лидер                    1\n",
       "ментальный               1\n",
       "место                 3114\n",
       "намерение                1\n",
       "носитель информации     31\n",
       "носитель признака        2\n",
       "объект подозрения        1\n",
       "одежда                   2\n",
       "одновременность         29\n",
       "ожидаемость              1\n",
       "основание                2\n",
       "оценка                   4\n",
       "оценка последствий       1\n",
       "параметр                93\n",
       "пациенс               7813"
      ]
     },
     "execution_count": 7,
     "metadata": {},
     "output_type": "execute_result"
    }
   ],
   "source": [
    "pd.DataFrame(big_df.groupby('Role')['lemma'].count()).head(40)"
   ]
  },
  {
   "cell_type": "code",
   "execution_count": 54,
   "metadata": {},
   "outputs": [
    {
     "data": {
      "text/plain": [
       "год           129\n",
       "время          60\n",
       "день           44\n",
       "раз            39\n",
       "неделя         24\n",
       "             ... \n",
       "джентльмен      1\n",
       "слово           1\n",
       "путь            1\n",
       "курс            1\n",
       "заседание       1\n",
       "Name: lemma, Length: 171, dtype: int64"
      ]
     },
     "execution_count": 54,
     "metadata": {},
     "output_type": "execute_result"
    }
   ],
   "source": [
    "big_df[big_df['Role'] == 'время']['lemma'].value_counts()"
   ]
  },
  {
   "cell_type": "code",
   "execution_count": 6,
   "metadata": {},
   "outputs": [
    {
     "data": {
      "text/html": [
       "<div>\n",
       "<style scoped>\n",
       "    .dataframe tbody tr th:only-of-type {\n",
       "        vertical-align: middle;\n",
       "    }\n",
       "\n",
       "    .dataframe tbody tr th {\n",
       "        vertical-align: top;\n",
       "    }\n",
       "\n",
       "    .dataframe thead th {\n",
       "        text-align: right;\n",
       "    }\n",
       "</style>\n",
       "<table border=\"1\" class=\"dataframe\">\n",
       "  <thead>\n",
       "    <tr style=\"text-align: right;\">\n",
       "      <th></th>\n",
       "      <th>Role</th>\n",
       "    </tr>\n",
       "  </thead>\n",
       "  <tbody>\n",
       "    <tr>\n",
       "      <th>пациенс</th>\n",
       "      <td>7813</td>\n",
       "    </tr>\n",
       "    <tr>\n",
       "      <th>место</th>\n",
       "      <td>3114</td>\n",
       "    </tr>\n",
       "    <tr>\n",
       "      <th>агенс</th>\n",
       "      <td>1194</td>\n",
       "    </tr>\n",
       "    <tr>\n",
       "      <th>инструмент</th>\n",
       "      <td>859</td>\n",
       "    </tr>\n",
       "    <tr>\n",
       "      <th>причина</th>\n",
       "      <td>807</td>\n",
       "    </tr>\n",
       "    <tr>\n",
       "      <th>признак</th>\n",
       "      <td>804</td>\n",
       "    </tr>\n",
       "    <tr>\n",
       "      <th>время</th>\n",
       "      <td>703</td>\n",
       "    </tr>\n",
       "    <tr>\n",
       "      <th>экспериенцер</th>\n",
       "      <td>426</td>\n",
       "    </tr>\n",
       "    <tr>\n",
       "      <th>адресат</th>\n",
       "      <td>238</td>\n",
       "    </tr>\n",
       "    <tr>\n",
       "      <th>цель</th>\n",
       "      <td>218</td>\n",
       "    </tr>\n",
       "    <tr>\n",
       "      <th>ситуация в фокусе</th>\n",
       "      <td>121</td>\n",
       "    </tr>\n",
       "    <tr>\n",
       "      <th>параметр</th>\n",
       "      <td>93</td>\n",
       "    </tr>\n",
       "    <tr>\n",
       "      <th>фоновая ситуация</th>\n",
       "      <td>70</td>\n",
       "    </tr>\n",
       "    <tr>\n",
       "      <th>комитатив</th>\n",
       "      <td>48</td>\n",
       "    </tr>\n",
       "    <tr>\n",
       "      <th>источник звука</th>\n",
       "      <td>41</td>\n",
       "    </tr>\n",
       "    <tr>\n",
       "      <th>содержимое</th>\n",
       "      <td>40</td>\n",
       "    </tr>\n",
       "    <tr>\n",
       "      <th>степень</th>\n",
       "      <td>36</td>\n",
       "    </tr>\n",
       "    <tr>\n",
       "      <th>носитель информации</th>\n",
       "      <td>31</td>\n",
       "    </tr>\n",
       "    <tr>\n",
       "      <th>одновременность</th>\n",
       "      <td>29</td>\n",
       "    </tr>\n",
       "    <tr>\n",
       "      <th>депиктив</th>\n",
       "      <td>25</td>\n",
       "    </tr>\n",
       "  </tbody>\n",
       "</table>\n",
       "</div>"
      ],
      "text/plain": [
       "                     Role\n",
       "пациенс              7813\n",
       "место                3114\n",
       "агенс                1194\n",
       "инструмент            859\n",
       "причина               807\n",
       "признак               804\n",
       "время                 703\n",
       "экспериенцер          426\n",
       "адресат               238\n",
       "цель                  218\n",
       "ситуация в фокусе     121\n",
       "параметр               93\n",
       "фоновая ситуация       70\n",
       "комитатив              48\n",
       "источник звука         41\n",
       "содержимое             40\n",
       "степень                36\n",
       "носитель информации    31\n",
       "одновременность        29\n",
       "депиктив               25"
      ]
     },
     "execution_count": 6,
     "metadata": {},
     "output_type": "execute_result"
    }
   ],
   "source": [
    "pd.DataFrame(big_df['Role'].value_counts()).head(20)"
   ]
  },
  {
   "cell_type": "markdown",
   "metadata": {},
   "source": [
    "### multi class classification"
   ]
  },
  {
   "cell_type": "markdown",
   "metadata": {},
   "source": [
    "encode features"
   ]
  },
  {
   "cell_type": "code",
   "execution_count": 8,
   "metadata": {},
   "outputs": [],
   "source": [
    "def features(df, target):\n",
    "        \"\"\"\n",
    "        отдает только те колонки датафрейма, которые\n",
    "        не таргет колонка\n",
    "        categorical columns -> one-hot encoding\n",
    "        для некатегориальных строковых используется TfidfVectorizer\n",
    "        \"\"\"\n",
    "        my_features = df.drop(target, axis='columns')\n",
    "        my_features = my_features.fillna('unknown')\n",
    "        cols = my_features.columns\n",
    "\n",
    "        \n",
    "        non_categ = []\n",
    "        categorical_columns = []\n",
    "        \n",
    "        vectorizer = TfidfVectorizer()\n",
    "\n",
    "        for col in cols:\n",
    "\n",
    "            percent = len(my_features[col].unique())/len(my_features[col])\n",
    "            \n",
    "            if percent < 0.1:\n",
    "                \n",
    "                if type(my_features[col].tolist()[0]) == str:\n",
    "                    #  to one hot columns\n",
    "                    categorical_columns.append(col)\n",
    "            else:\n",
    "                # векторизация\n",
    "                if type(my_features[col].tolist()[0]) == str:\n",
    "                    \n",
    "                    vectors = vectorizer.fit_transform(my_features[col])\n",
    "                    vectors = vectors.toarray()\n",
    "                    columns_for_df = vectorizer.get_feature_names()\n",
    "                    df = pd.DataFrame(vectors, columns=columns_for_df)\n",
    "                    df = df.add_prefix(col+'_')\n",
    "                    non_categ += list(df.columns)\n",
    "                    my_features = my_features.join(df)\n",
    "                    \n",
    "                    # убрать исходную невекторизованную колонку\n",
    "                    my_features = my_features.drop([col], axis=1)\n",
    "                    \n",
    "                    \n",
    "        if categorical_columns:  # list with names of categ cols\n",
    "            \n",
    "            enc = preprocessing.OneHotEncoder(handle_unknown='ignore')\n",
    "            train_X_encoded = enc.fit_transform(my_features[categorical_columns]).toarray()\n",
    "            new_col_names = enc.get_feature_names(categorical_columns)\n",
    "            train_X_encoded =  pd.DataFrame(train_X_encoded, columns=new_col_names)\n",
    "            \n",
    "            my_features = pd.concat([my_features[non_categ],train_X_encoded], axis=1)\n",
    "            \n",
    "        return my_features"
   ]
  },
  {
   "cell_type": "code",
   "execution_count": 9,
   "metadata": {},
   "outputs": [],
   "source": [
    "def get_X_Y(df, enc_features):\n",
    "    le = preprocessing.LabelEncoder()\n",
    "    le.fit(df['Role'])\n",
    "    print(le.classes_) #\n",
    "    y = le.transform(df['Role'])\n",
    "    x = enc_features.to_numpy()\n",
    "    return x, y, le.classes_"
   ]
  },
  {
   "cell_type": "code",
   "execution_count": 71,
   "metadata": {},
   "outputs": [],
   "source": [
    "def find_optimal_sample_num(big_df2):\n",
    "    list_of_sampled_df = []\n",
    "    for num in range(100, 900, 100):\n",
    "        counts = pd.DataFrame(big_df2['Role'].value_counts())\n",
    "        counts.rename(columns={'Role': 'Count'}, inplace=True)\n",
    "        counts = counts[counts['Count'] > num]\n",
    "        to_take = list(counts.index)\n",
    "        res = pd.DataFrame([])\n",
    "        for role in to_take:\n",
    "            role_samples = big_df2[big_df2['Role'] == role].sample(n=num, random_state=1)\n",
    "            res = res.append(role_samples, ignore_index=True)\n",
    "        list_of_sampled_df.append((res, num))\n",
    "    \n",
    "    return list_of_sampled_df"
   ]
  },
  {
   "cell_type": "markdown",
   "metadata": {},
   "source": [
    "report for different sample size for random forest"
   ]
  },
  {
   "cell_type": "code",
   "execution_count": 74,
   "metadata": {},
   "outputs": [],
   "source": [
    "def collect_f1_rand_forest(list_of_sampled_df):\n",
    "    df_report = pd.DataFrame([])\n",
    "    for df, num in tqdm(list_of_sampled_df):\n",
    "        num = str(num)\n",
    "        enc_features = features(df, 'Role')\n",
    "        x, y, le_classes = get_X_Y(df, enc_features)\n",
    "        train_x, test_x, train_y, test_y = train_test_split(x, y, \\\n",
    "                                                        test_size=0.3, \\\n",
    "                                                        random_state=42)\n",
    "        mod = ensemble.RandomForestClassifier(random_state=3, n_estimators=10, n_jobs=-1)\n",
    "        report = model(mod, train_x, train_y, test_x, test_y, le_classes=le_classes)\n",
    "        df_report = pd.concat([df_report, pd.DataFrame(report).transpose().add_prefix(num+'_')[num+'_f1-score']], axis=1)\n",
    "    return df_report "
   ]
  },
  {
   "cell_type": "markdown",
   "metadata": {},
   "source": [
    "### 1. RandomForestClassifier"
   ]
  },
  {
   "cell_type": "code",
   "execution_count": 14,
   "metadata": {},
   "outputs": [],
   "source": [
    "def model(model, train_x, train_y, test_x, test_y, le_classes):\n",
    "    model.fit(train_x, train_y)\n",
    "    report = metrics.classification_report(test_y, model.predict(test_x),\n",
    "                                  target_names=le_classes, output_dict=True)\n",
    "    return report"
   ]
  },
  {
   "cell_type": "code",
   "execution_count": 160,
   "metadata": {},
   "outputs": [],
   "source": [
    "list_of_sampled_df = find_optimal_sample_num(big_df)"
   ]
  },
  {
   "cell_type": "code",
   "execution_count": 161,
   "metadata": {
    "scrolled": true
   },
   "outputs": [
    {
     "data": {
      "text/plain": [
       "10"
      ]
     },
     "execution_count": 161,
     "metadata": {},
     "output_type": "execute_result"
    }
   ],
   "source": [
    "len(list_of_sampled_df)"
   ]
  },
  {
   "cell_type": "code",
   "execution_count": 165,
   "metadata": {
    "collapsed": true
   },
   "outputs": [
    {
     "name": "stderr",
     "output_type": "stream",
     "text": [
      "\n",
      "  0%|                                                                                           | 0/10 [00:00<?, ?it/s]\u001b[A"
     ]
    },
    {
     "name": "stdout",
     "output_type": "stream",
     "text": [
      "['агенс' 'адресат' 'время' 'инструмент' 'место' 'пациенс' 'признак'\n",
      " 'причина' 'ситуация в фокусе' 'цель' 'экспериенцер']\n"
     ]
    },
    {
     "name": "stderr",
     "output_type": "stream",
     "text": [
      "\n",
      " 10%|████████▎                                                                          | 1/10 [00:02<00:22,  2.48s/it]\u001b[A"
     ]
    },
    {
     "name": "stdout",
     "output_type": "stream",
     "text": [
      "['агенс' 'адресат' 'время' 'инструмент' 'место' 'пациенс' 'признак'\n",
      " 'причина' 'цель' 'экспериенцер']\n"
     ]
    },
    {
     "name": "stderr",
     "output_type": "stream",
     "text": [
      "\n",
      " 20%|████████████████▌                                                                  | 2/10 [00:07<00:25,  3.13s/it]\u001b[A"
     ]
    },
    {
     "name": "stdout",
     "output_type": "stream",
     "text": [
      "['агенс' 'время' 'инструмент' 'место' 'пациенс' 'признак' 'причина'\n",
      " 'экспериенцер']\n"
     ]
    },
    {
     "name": "stderr",
     "output_type": "stream",
     "text": [
      "\n",
      " 30%|████████████████████████▉                                                          | 3/10 [00:13<00:29,  4.17s/it]\u001b[A"
     ]
    },
    {
     "name": "stdout",
     "output_type": "stream",
     "text": [
      "['агенс' 'время' 'инструмент' 'место' 'пациенс' 'признак' 'причина'\n",
      " 'экспериенцер']\n"
     ]
    },
    {
     "name": "stderr",
     "output_type": "stream",
     "text": [
      "\n",
      " 40%|█████████████████████████████████▏                                                 | 4/10 [00:24<00:37,  6.22s/it]\u001b[A"
     ]
    },
    {
     "name": "stdout",
     "output_type": "stream",
     "text": [
      "['агенс' 'время' 'инструмент' 'место' 'пациенс' 'признак' 'причина']\n"
     ]
    },
    {
     "name": "stderr",
     "output_type": "stream",
     "text": [
      "\n",
      " 50%|█████████████████████████████████████████▌                                         | 5/10 [00:38<00:42,  8.40s/it]\u001b[A"
     ]
    },
    {
     "name": "stdout",
     "output_type": "stream",
     "text": [
      "['агенс' 'время' 'инструмент' 'место' 'пациенс' 'признак' 'причина']\n"
     ]
    },
    {
     "name": "stderr",
     "output_type": "stream",
     "text": [
      "\n",
      " 60%|█████████████████████████████████████████████████▊                                 | 6/10 [01:02<00:52, 13.09s/it]\u001b[A"
     ]
    },
    {
     "name": "stdout",
     "output_type": "stream",
     "text": [
      "['агенс' 'время' 'инструмент' 'место' 'пациенс' 'признак' 'причина']\n"
     ]
    },
    {
     "name": "stderr",
     "output_type": "stream",
     "text": [
      "\n",
      " 70%|██████████████████████████████████████████████████████████                         | 7/10 [01:51<01:11, 23.89s/it]\u001b[A"
     ]
    },
    {
     "name": "stdout",
     "output_type": "stream",
     "text": [
      "['агенс' 'инструмент' 'место' 'пациенс' 'признак' 'причина']\n"
     ]
    },
    {
     "name": "stderr",
     "output_type": "stream",
     "text": [
      "\n",
      " 80%|██████████████████████████████████████████████████████████████████▍                | 8/10 [02:25<00:54, 27.12s/it]\u001b[A"
     ]
    },
    {
     "name": "stdout",
     "output_type": "stream",
     "text": [
      "['агенс' 'место' 'пациенс']\n"
     ]
    },
    {
     "name": "stderr",
     "output_type": "stream",
     "text": [
      "\n",
      " 90%|██████████████████████████████████████████████████████████████████████████▋        | 9/10 [02:39<00:23, 23.12s/it]\u001b[A"
     ]
    },
    {
     "name": "stdout",
     "output_type": "stream",
     "text": [
      "['место' 'пациенс']\n"
     ]
    },
    {
     "name": "stderr",
     "output_type": "stream",
     "text": [
      "\n",
      "100%|██████████████████████████████████████████████████████████████████████████████████| 10/10 [04:07<00:00, 24.71s/it]\u001b[A\n"
     ]
    }
   ],
   "source": [
    "all_report = collect_f1_rand_forest(list_of_sampled_df)"
   ]
  },
  {
   "cell_type": "code",
   "execution_count": null,
   "metadata": {},
   "outputs": [],
   "source": []
  },
  {
   "cell_type": "markdown",
   "metadata": {},
   "source": [
    "### without context"
   ]
  },
  {
   "cell_type": "code",
   "execution_count": 26,
   "metadata": {},
   "outputs": [],
   "source": [
    "cols = list(big_df.columns)\n",
    "cols.remove('Last_word')"
   ]
  },
  {
   "cell_type": "code",
   "execution_count": 27,
   "metadata": {},
   "outputs": [
    {
     "name": "stdout",
     "output_type": "stream",
     "text": [
      "['Role', 'Rank', 'pos', 'case', 'gender', 'animacy', 'number', 'lemma', 'link_name', 't', 'r', 'left_context', 'right_context']\n"
     ]
    }
   ],
   "source": [
    "print(cols)"
   ]
  },
  {
   "cell_type": "markdown",
   "metadata": {},
   "source": [
    "не убирая контекст"
   ]
  },
  {
   "cell_type": "code",
   "execution_count": 72,
   "metadata": {},
   "outputs": [],
   "source": [
    "def with_context(big_df):\n",
    "    list_of_sampled_df = find_optimal_sample_num(big_df)\n",
    "    f1s = collect_f1_rand_forest(list_of_sampled_df)\n",
    "#     overfit_check_f1s = check_overfit(list_of_sampled_df)\n",
    "        \n",
    "    cm = sns.light_palette(\"green\", as_cmap=True)\n",
    "    styled = f1s.style.background_gradient(cmap=cm)\\\n",
    "    .set_caption(\"100-800 sample size with context\")\\\n",
    "    .set_table_styles([{\n",
    "        'selector': 'caption',\n",
    "        'props': [\n",
    "            ('color', 'black'),\n",
    "            ('font-size', '16px')\n",
    "        ]\n",
    "    }])\n",
    "    \n",
    "    dfi.export(styled, 'with_context_f1s.png')\n",
    "        \n",
    "#     cm = sns.light_palette(\"orange\", as_cmap=True)\n",
    "#     styled = overfit_check_f1s.style.background_gradient(cmap=cm)\\\n",
    "#     .set_caption(\"100-800 sample size without context\")\\\n",
    "#     .set_table_styles([{\n",
    "#         'selector': 'caption',\n",
    "#         'props': [\n",
    "#             ('color', 'black'),\n",
    "#             ('font-size', '16px')\n",
    "#         ]\n",
    "#     }])   \n",
    "#     dfi.export(styled, 'without_context_f1s_overfit_check.png')"
   ]
  },
  {
   "cell_type": "code",
   "execution_count": 75,
   "metadata": {},
   "outputs": [
    {
     "name": "stderr",
     "output_type": "stream",
     "text": [
      "\r",
      "  0%|                                                                                            | 0/8 [00:00<?, ?it/s]"
     ]
    },
    {
     "name": "stdout",
     "output_type": "stream",
     "text": [
      "['агенс' 'адресат' 'время' 'инструмент' 'место' 'пациенс' 'признак'\n",
      " 'причина' 'ситуация в фокусе' 'цель' 'экспериенцер']\n"
     ]
    },
    {
     "name": "stderr",
     "output_type": "stream",
     "text": [
      "\r",
      " 12%|██████████▌                                                                         | 1/8 [00:02<00:15,  2.24s/it]"
     ]
    },
    {
     "name": "stdout",
     "output_type": "stream",
     "text": [
      "['агенс' 'адресат' 'время' 'инструмент' 'место' 'пациенс' 'признак'\n",
      " 'причина' 'цель' 'экспериенцер']\n"
     ]
    },
    {
     "name": "stderr",
     "output_type": "stream",
     "text": [
      "\r",
      " 25%|█████████████████████                                                               | 2/8 [00:11<00:26,  4.35s/it]"
     ]
    },
    {
     "name": "stdout",
     "output_type": "stream",
     "text": [
      "['агенс' 'время' 'инструмент' 'место' 'пациенс' 'признак' 'причина'\n",
      " 'экспериенцер']\n"
     ]
    },
    {
     "name": "stderr",
     "output_type": "stream",
     "text": [
      "\r",
      " 38%|███████████████████████████████▌                                                    | 3/8 [00:23<00:33,  6.69s/it]"
     ]
    },
    {
     "name": "stdout",
     "output_type": "stream",
     "text": [
      "['агенс' 'время' 'инструмент' 'место' 'пациенс' 'признак' 'причина'\n",
      " 'экспериенцер']\n"
     ]
    },
    {
     "name": "stderr",
     "output_type": "stream",
     "text": [
      "\r",
      " 50%|██████████████████████████████████████████                                          | 4/8 [00:47<00:47, 11.90s/it]"
     ]
    },
    {
     "name": "stdout",
     "output_type": "stream",
     "text": [
      "['агенс' 'время' 'инструмент' 'место' 'пациенс' 'признак' 'причина']\n"
     ]
    },
    {
     "name": "stderr",
     "output_type": "stream",
     "text": [
      "\r",
      " 62%|████████████████████████████████████████████████████▌                               | 5/8 [01:11<00:46, 15.47s/it]"
     ]
    },
    {
     "name": "stdout",
     "output_type": "stream",
     "text": [
      "['агенс' 'время' 'инструмент' 'место' 'пациенс' 'признак' 'причина']\n"
     ]
    },
    {
     "name": "stderr",
     "output_type": "stream",
     "text": [
      "\r",
      " 75%|███████████████████████████████████████████████████████████████                     | 6/8 [01:45<00:42, 21.11s/it]"
     ]
    },
    {
     "name": "stdout",
     "output_type": "stream",
     "text": [
      "['агенс' 'время' 'инструмент' 'место' 'пациенс' 'признак' 'причина']\n"
     ]
    },
    {
     "name": "stderr",
     "output_type": "stream",
     "text": [
      "\r",
      " 88%|█████████████████████████████████████████████████████████████████████████▌          | 7/8 [02:31<00:28, 28.38s/it]"
     ]
    },
    {
     "name": "stdout",
     "output_type": "stream",
     "text": [
      "['агенс' 'инструмент' 'место' 'пациенс' 'признак' 'причина']\n"
     ]
    },
    {
     "name": "stderr",
     "output_type": "stream",
     "text": [
      "100%|████████████████████████████████████████████████████████████████████████████████████| 8/8 [03:48<00:00, 28.55s/it]\n"
     ]
    }
   ],
   "source": [
    "with_context(big_df)"
   ]
  },
  {
   "cell_type": "markdown",
   "metadata": {},
   "source": [
    "что если убрать левый/правый контекст"
   ]
  },
  {
   "cell_type": "code",
   "execution_count": 33,
   "metadata": {},
   "outputs": [],
   "source": [
    "def whats_with_context(big_df):\n",
    "    res = []\n",
    "    for col in ['left_context', 'right_context']:\n",
    "        list_of_sampled_df = find_optimal_sample_num(big_df.drop([col], axis='columns'))\n",
    "        f1s = collect_f1_rand_forest(list_of_sampled_df)\n",
    "        overfit_check_f1s = check_overfit(list_of_sampled_df)\n",
    "        \n",
    "        cm = sns.light_palette(\"green\", as_cmap=True)\n",
    "        print(\"\\nWithout \", col)\n",
    "#         print(f1s.style.background_gradient(cmap=cm))\n",
    "        styled = f1s.style.background_gradient(cmap=cm)\\\n",
    "        .set_caption(\"100-800 sample size without \" + col)\\\n",
    "        .set_table_styles([{\n",
    "            'selector': 'caption',\n",
    "            'props': [\n",
    "                ('color', 'black'),\n",
    "                ('font-size', '16px')\n",
    "            ]\n",
    "        }])\n",
    "    \n",
    "        dfi.export(styled, col+'_without_f1s.png')\n",
    "        \n",
    "        cm = sns.light_palette(\"orange\", as_cmap=True)\n",
    "        \n",
    "        styled = overfit_check_f1s.style.background_gradient(cmap=cm)\\\n",
    "        .set_caption(\"100-800 sample size without \" + col)\\\n",
    "        .set_table_styles([{\n",
    "            'selector': 'caption',\n",
    "            'props': [\n",
    "                ('color', 'black'),\n",
    "                ('font-size', '16px')\n",
    "            ]\n",
    "        }])\n",
    "        \n",
    "        dfi.export(styled, col+'_without_f1s_overfit_check.png')\n",
    "    \n",
    "    return res"
   ]
  },
  {
   "cell_type": "code",
   "execution_count": 34,
   "metadata": {
    "collapsed": true
   },
   "outputs": [
    {
     "name": "stderr",
     "output_type": "stream",
     "text": [
      "\r",
      "  0%|                                                                                            | 0/8 [00:00<?, ?it/s]"
     ]
    },
    {
     "name": "stdout",
     "output_type": "stream",
     "text": [
      "['агенс' 'адресат' 'время' 'инструмент' 'место' 'пациенс' 'признак'\n",
      " 'причина' 'ситуация в фокусе' 'цель' 'экспериенцер']\n"
     ]
    },
    {
     "name": "stderr",
     "output_type": "stream",
     "text": [
      "\r",
      " 12%|██████████▌                                                                         | 1/8 [00:00<00:06,  1.01it/s]"
     ]
    },
    {
     "name": "stdout",
     "output_type": "stream",
     "text": [
      "['агенс' 'адресат' 'время' 'инструмент' 'место' 'пациенс' 'признак'\n",
      " 'причина' 'цель' 'экспериенцер']\n"
     ]
    },
    {
     "name": "stderr",
     "output_type": "stream",
     "text": [
      "\r",
      " 25%|█████████████████████                                                               | 2/8 [00:03<00:08,  1.38s/it]"
     ]
    },
    {
     "name": "stdout",
     "output_type": "stream",
     "text": [
      "['агенс' 'время' 'инструмент' 'место' 'пациенс' 'признак' 'причина'\n",
      " 'экспериенцер']\n"
     ]
    },
    {
     "name": "stderr",
     "output_type": "stream",
     "text": [
      "\r",
      " 38%|███████████████████████████████▌                                                    | 3/8 [00:06<00:09,  1.93s/it]"
     ]
    },
    {
     "name": "stdout",
     "output_type": "stream",
     "text": [
      "['агенс' 'время' 'инструмент' 'место' 'пациенс' 'признак' 'причина'\n",
      " 'экспериенцер']\n"
     ]
    },
    {
     "name": "stderr",
     "output_type": "stream",
     "text": [
      "\r",
      " 50%|██████████████████████████████████████████                                          | 4/8 [00:11<00:11,  2.86s/it]"
     ]
    },
    {
     "name": "stdout",
     "output_type": "stream",
     "text": [
      "['агенс' 'время' 'инструмент' 'место' 'пациенс' 'признак' 'причина']\n"
     ]
    },
    {
     "name": "stderr",
     "output_type": "stream",
     "text": [
      "\r",
      " 62%|████████████████████████████████████████████████████▌                               | 5/8 [00:17<00:11,  3.84s/it]"
     ]
    },
    {
     "name": "stdout",
     "output_type": "stream",
     "text": [
      "['агенс' 'время' 'инструмент' 'место' 'пациенс' 'признак' 'причина']\n"
     ]
    },
    {
     "name": "stderr",
     "output_type": "stream",
     "text": [
      "\r",
      " 75%|███████████████████████████████████████████████████████████████                     | 6/8 [00:26<00:10,  5.48s/it]"
     ]
    },
    {
     "name": "stdout",
     "output_type": "stream",
     "text": [
      "['агенс' 'время' 'инструмент' 'место' 'пациенс' 'признак' 'причина']\n"
     ]
    },
    {
     "name": "stderr",
     "output_type": "stream",
     "text": [
      "\r",
      " 88%|█████████████████████████████████████████████████████████████████████████▌          | 7/8 [00:42<00:08,  8.55s/it]"
     ]
    },
    {
     "name": "stdout",
     "output_type": "stream",
     "text": [
      "['агенс' 'инструмент' 'место' 'пациенс' 'признак' 'причина']\n"
     ]
    },
    {
     "name": "stderr",
     "output_type": "stream",
     "text": [
      "100%|████████████████████████████████████████████████████████████████████████████████████| 8/8 [01:03<00:00,  7.88s/it]\n",
      "  0%|                                                                                            | 0/8 [00:00<?, ?it/s]"
     ]
    },
    {
     "name": "stdout",
     "output_type": "stream",
     "text": [
      "['агенс' 'адресат' 'время' 'инструмент' 'место' 'пациенс' 'признак'\n",
      " 'причина' 'ситуация в фокусе' 'цель' 'экспериенцер']\n"
     ]
    },
    {
     "name": "stderr",
     "output_type": "stream",
     "text": [
      "\r",
      " 12%|██████████▌                                                                         | 1/8 [00:02<00:14,  2.02s/it]"
     ]
    },
    {
     "name": "stdout",
     "output_type": "stream",
     "text": [
      "['агенс' 'адресат' 'время' 'инструмент' 'место' 'пациенс' 'признак'\n",
      " 'причина' 'цель' 'экспериенцер']\n"
     ]
    },
    {
     "name": "stderr",
     "output_type": "stream",
     "text": [
      "\r",
      " 25%|█████████████████████                                                               | 2/8 [00:04<00:13,  2.24s/it]"
     ]
    },
    {
     "name": "stdout",
     "output_type": "stream",
     "text": [
      "['агенс' 'время' 'инструмент' 'место' 'пациенс' 'признак' 'причина'\n",
      " 'экспериенцер']\n"
     ]
    },
    {
     "name": "stderr",
     "output_type": "stream",
     "text": [
      "\r",
      " 38%|███████████████████████████████▌                                                    | 3/8 [00:08<00:12,  2.54s/it]"
     ]
    },
    {
     "name": "stdout",
     "output_type": "stream",
     "text": [
      "['агенс' 'время' 'инструмент' 'место' 'пациенс' 'признак' 'причина'\n",
      " 'экспериенцер']\n"
     ]
    },
    {
     "name": "stderr",
     "output_type": "stream",
     "text": [
      "\r",
      " 50%|██████████████████████████████████████████                                          | 4/8 [00:13<00:13,  3.36s/it]"
     ]
    },
    {
     "name": "stdout",
     "output_type": "stream",
     "text": [
      "['агенс' 'время' 'инструмент' 'место' 'пациенс' 'признак' 'причина']\n"
     ]
    },
    {
     "name": "stderr",
     "output_type": "stream",
     "text": [
      "\r",
      " 62%|████████████████████████████████████████████████████▌                               | 5/8 [00:19<00:12,  4.19s/it]"
     ]
    },
    {
     "name": "stdout",
     "output_type": "stream",
     "text": [
      "['агенс' 'время' 'инструмент' 'место' 'пациенс' 'признак' 'причина']\n"
     ]
    },
    {
     "name": "stderr",
     "output_type": "stream",
     "text": [
      "\r",
      " 75%|███████████████████████████████████████████████████████████████                     | 6/8 [00:27<00:10,  5.49s/it]"
     ]
    },
    {
     "name": "stdout",
     "output_type": "stream",
     "text": [
      "['агенс' 'время' 'инструмент' 'место' 'пациенс' 'признак' 'причина']\n"
     ]
    },
    {
     "name": "stderr",
     "output_type": "stream",
     "text": [
      "\r",
      " 88%|█████████████████████████████████████████████████████████████████████████▌          | 7/8 [00:39<00:07,  7.41s/it]"
     ]
    },
    {
     "name": "stdout",
     "output_type": "stream",
     "text": [
      "['агенс' 'инструмент' 'место' 'пациенс' 'признак' 'причина']\n"
     ]
    },
    {
     "name": "stderr",
     "output_type": "stream",
     "text": [
      "100%|████████████████████████████████████████████████████████████████████████████████████| 8/8 [00:52<00:00,  6.61s/it]\n"
     ]
    },
    {
     "name": "stdout",
     "output_type": "stream",
     "text": [
      "\n",
      "Without  left_context\n"
     ]
    },
    {
     "name": "stderr",
     "output_type": "stream",
     "text": [
      "\r",
      "  0%|                                                                                            | 0/8 [00:00<?, ?it/s]"
     ]
    },
    {
     "name": "stdout",
     "output_type": "stream",
     "text": [
      "['агенс' 'адресат' 'время' 'инструмент' 'место' 'пациенс' 'признак'\n",
      " 'причина' 'ситуация в фокусе' 'цель' 'экспериенцер']\n"
     ]
    },
    {
     "name": "stderr",
     "output_type": "stream",
     "text": [
      "\r",
      " 12%|██████████▌                                                                         | 1/8 [00:00<00:06,  1.13it/s]"
     ]
    },
    {
     "name": "stdout",
     "output_type": "stream",
     "text": [
      "['агенс' 'адресат' 'время' 'инструмент' 'место' 'пациенс' 'признак'\n",
      " 'причина' 'цель' 'экспериенцер']\n"
     ]
    },
    {
     "name": "stderr",
     "output_type": "stream",
     "text": [
      "\r",
      " 25%|█████████████████████                                                               | 2/8 [00:03<00:08,  1.38s/it]"
     ]
    },
    {
     "name": "stdout",
     "output_type": "stream",
     "text": [
      "['агенс' 'время' 'инструмент' 'место' 'пациенс' 'признак' 'причина'\n",
      " 'экспериенцер']\n"
     ]
    },
    {
     "name": "stderr",
     "output_type": "stream",
     "text": [
      "\r",
      " 38%|███████████████████████████████▌                                                    | 3/8 [00:06<00:09,  1.98s/it]"
     ]
    },
    {
     "name": "stdout",
     "output_type": "stream",
     "text": [
      "['агенс' 'время' 'инструмент' 'место' 'пациенс' 'признак' 'причина'\n",
      " 'экспериенцер']\n"
     ]
    },
    {
     "name": "stderr",
     "output_type": "stream",
     "text": [
      "\r",
      " 50%|██████████████████████████████████████████                                          | 4/8 [00:12<00:12,  3.05s/it]"
     ]
    },
    {
     "name": "stdout",
     "output_type": "stream",
     "text": [
      "['агенс' 'время' 'инструмент' 'место' 'пациенс' 'признак' 'причина']\n"
     ]
    },
    {
     "name": "stderr",
     "output_type": "stream",
     "text": [
      "\r",
      " 62%|████████████████████████████████████████████████████▌                               | 5/8 [00:18<00:12,  4.06s/it]"
     ]
    },
    {
     "name": "stdout",
     "output_type": "stream",
     "text": [
      "['агенс' 'время' 'инструмент' 'место' 'пациенс' 'признак' 'причина']\n"
     ]
    },
    {
     "name": "stderr",
     "output_type": "stream",
     "text": [
      "\r",
      " 75%|███████████████████████████████████████████████████████████████                     | 6/8 [00:27<00:11,  5.53s/it]"
     ]
    },
    {
     "name": "stdout",
     "output_type": "stream",
     "text": [
      "['агенс' 'время' 'инструмент' 'место' 'пациенс' 'признак' 'причина']\n"
     ]
    },
    {
     "name": "stderr",
     "output_type": "stream",
     "text": [
      "\r",
      " 88%|█████████████████████████████████████████████████████████████████████████▌          | 7/8 [00:40<00:07,  7.72s/it]"
     ]
    },
    {
     "name": "stdout",
     "output_type": "stream",
     "text": [
      "['агенс' 'инструмент' 'место' 'пациенс' 'признак' 'причина']\n"
     ]
    },
    {
     "name": "stderr",
     "output_type": "stream",
     "text": [
      "100%|████████████████████████████████████████████████████████████████████████████████████| 8/8 [00:57<00:00,  7.21s/it]\n",
      "  0%|                                                                                            | 0/8 [00:00<?, ?it/s]"
     ]
    },
    {
     "name": "stdout",
     "output_type": "stream",
     "text": [
      "['агенс' 'адресат' 'время' 'инструмент' 'место' 'пациенс' 'признак'\n",
      " 'причина' 'ситуация в фокусе' 'цель' 'экспериенцер']\n"
     ]
    },
    {
     "name": "stderr",
     "output_type": "stream",
     "text": [
      "\r",
      " 12%|██████████▌                                                                         | 1/8 [00:01<00:09,  1.30s/it]"
     ]
    },
    {
     "name": "stdout",
     "output_type": "stream",
     "text": [
      "['агенс' 'адресат' 'время' 'инструмент' 'место' 'пациенс' 'признак'\n",
      " 'причина' 'цель' 'экспериенцер']\n"
     ]
    },
    {
     "name": "stderr",
     "output_type": "stream",
     "text": [
      "\r",
      " 25%|█████████████████████                                                               | 2/8 [00:03<00:10,  1.71s/it]"
     ]
    },
    {
     "name": "stdout",
     "output_type": "stream",
     "text": [
      "['агенс' 'время' 'инструмент' 'место' 'пациенс' 'признак' 'причина'\n",
      " 'экспериенцер']\n"
     ]
    },
    {
     "name": "stderr",
     "output_type": "stream",
     "text": [
      "\r",
      " 38%|███████████████████████████████▌                                                    | 3/8 [00:07<00:11,  2.31s/it]"
     ]
    },
    {
     "name": "stdout",
     "output_type": "stream",
     "text": [
      "['агенс' 'время' 'инструмент' 'место' 'пациенс' 'признак' 'причина'\n",
      " 'экспериенцер']\n"
     ]
    },
    {
     "name": "stderr",
     "output_type": "stream",
     "text": [
      "\r",
      " 50%|██████████████████████████████████████████                                          | 4/8 [00:13<00:13,  3.29s/it]"
     ]
    },
    {
     "name": "stdout",
     "output_type": "stream",
     "text": [
      "['агенс' 'время' 'инструмент' 'место' 'пациенс' 'признак' 'причина']\n"
     ]
    },
    {
     "name": "stderr",
     "output_type": "stream",
     "text": [
      "\r",
      " 62%|████████████████████████████████████████████████████▌                               | 5/8 [00:19<00:12,  4.27s/it]"
     ]
    },
    {
     "name": "stdout",
     "output_type": "stream",
     "text": [
      "['агенс' 'время' 'инструмент' 'место' 'пациенс' 'признак' 'причина']\n"
     ]
    },
    {
     "name": "stderr",
     "output_type": "stream",
     "text": [
      "\r",
      " 75%|███████████████████████████████████████████████████████████████                     | 6/8 [00:28<00:11,  5.67s/it]"
     ]
    },
    {
     "name": "stdout",
     "output_type": "stream",
     "text": [
      "['агенс' 'время' 'инструмент' 'место' 'пациенс' 'признак' 'причина']\n"
     ]
    },
    {
     "name": "stderr",
     "output_type": "stream",
     "text": [
      "\r",
      " 88%|█████████████████████████████████████████████████████████████████████████▌          | 7/8 [00:41<00:07,  7.74s/it]"
     ]
    },
    {
     "name": "stdout",
     "output_type": "stream",
     "text": [
      "['агенс' 'инструмент' 'место' 'пациенс' 'признак' 'причина']\n"
     ]
    },
    {
     "name": "stderr",
     "output_type": "stream",
     "text": [
      "100%|████████████████████████████████████████████████████████████████████████████████████| 8/8 [01:02<00:00,  7.82s/it]\n"
     ]
    },
    {
     "name": "stdout",
     "output_type": "stream",
     "text": [
      "\n",
      "Without  right_context\n"
     ]
    }
   ],
   "source": [
    "whats_with_context(big_df)"
   ]
  },
  {
   "cell_type": "markdown",
   "metadata": {},
   "source": [
    "что если убрать контекст вообще"
   ]
  },
  {
   "cell_type": "code",
   "execution_count": 38,
   "metadata": {},
   "outputs": [],
   "source": [
    "def whats_with_context2(big_df):\n",
    "    list_of_sampled_df = find_optimal_sample_num(big_df.drop(['left_context', 'right_context'], axis='columns'))\n",
    "    f1s = collect_f1_rand_forest(list_of_sampled_df)\n",
    "    overfit_check_f1s = check_overfit(list_of_sampled_df)\n",
    "        \n",
    "    cm = sns.light_palette(\"green\", as_cmap=True)\n",
    "    styled = f1s.style.background_gradient(cmap=cm)\\\n",
    "    .set_caption(\"100-800 sample size without context\")\\\n",
    "    .set_table_styles([{\n",
    "        'selector': 'caption',\n",
    "        'props': [\n",
    "            ('color', 'black'),\n",
    "            ('font-size', '16px')\n",
    "        ]\n",
    "    }])\n",
    "    \n",
    "    dfi.export(styled, 'without_context_f1s.png')\n",
    "        \n",
    "    cm = sns.light_palette(\"orange\", as_cmap=True)\n",
    "    styled = overfit_check_f1s.style.background_gradient(cmap=cm)\\\n",
    "    .set_caption(\"100-800 sample size without context\")\\\n",
    "    .set_table_styles([{\n",
    "        'selector': 'caption',\n",
    "        'props': [\n",
    "            ('color', 'black'),\n",
    "            ('font-size', '16px')\n",
    "        ]\n",
    "    }])   \n",
    "    dfi.export(styled, 'without_context_f1s_overfit_check.png')"
   ]
  },
  {
   "cell_type": "code",
   "execution_count": 39,
   "metadata": {
    "collapsed": true
   },
   "outputs": [
    {
     "name": "stderr",
     "output_type": "stream",
     "text": [
      " 12%|██████████▌                                                                         | 1/8 [00:00<00:02,  3.22it/s]"
     ]
    },
    {
     "name": "stdout",
     "output_type": "stream",
     "text": [
      "['агенс' 'адресат' 'время' 'инструмент' 'место' 'пациенс' 'признак'\n",
      " 'причина' 'ситуация в фокусе' 'цель' 'экспериенцер']\n",
      "['агенс' 'адресат' 'время' 'инструмент' 'место' 'пациенс' 'признак'\n",
      " 'причина' 'цель' 'экспериенцер']\n"
     ]
    },
    {
     "name": "stderr",
     "output_type": "stream",
     "text": [
      "\r",
      " 25%|█████████████████████                                                               | 2/8 [00:00<00:02,  2.43it/s]"
     ]
    },
    {
     "name": "stdout",
     "output_type": "stream",
     "text": [
      "['агенс' 'время' 'инструмент' 'место' 'пациенс' 'признак' 'причина'\n",
      " 'экспериенцер']\n"
     ]
    },
    {
     "name": "stderr",
     "output_type": "stream",
     "text": [
      "\r",
      " 38%|███████████████████████████████▌                                                    | 3/8 [00:01<00:02,  1.90it/s]"
     ]
    },
    {
     "name": "stdout",
     "output_type": "stream",
     "text": [
      "['агенс' 'время' 'инструмент' 'место' 'пациенс' 'признак' 'причина'\n",
      " 'экспериенцер']\n"
     ]
    },
    {
     "name": "stderr",
     "output_type": "stream",
     "text": [
      "\r",
      " 50%|██████████████████████████████████████████                                          | 4/8 [00:03<00:03,  1.26it/s]"
     ]
    },
    {
     "name": "stdout",
     "output_type": "stream",
     "text": [
      "['агенс' 'время' 'инструмент' 'место' 'пациенс' 'признак' 'причина']\n"
     ]
    },
    {
     "name": "stderr",
     "output_type": "stream",
     "text": [
      "\r",
      " 62%|████████████████████████████████████████████████████▌                               | 5/8 [00:04<00:03,  1.06s/it]"
     ]
    },
    {
     "name": "stdout",
     "output_type": "stream",
     "text": [
      "['агенс' 'время' 'инструмент' 'место' 'пациенс' 'признак' 'причина']\n"
     ]
    },
    {
     "name": "stderr",
     "output_type": "stream",
     "text": [
      "\r",
      " 75%|███████████████████████████████████████████████████████████████                     | 6/8 [00:07<00:02,  1.48s/it]"
     ]
    },
    {
     "name": "stdout",
     "output_type": "stream",
     "text": [
      "['агенс' 'время' 'инструмент' 'место' 'пациенс' 'признак' 'причина']\n"
     ]
    },
    {
     "name": "stderr",
     "output_type": "stream",
     "text": [
      "\r",
      " 88%|█████████████████████████████████████████████████████████████████████████▌          | 7/8 [00:10<00:01,  1.90s/it]"
     ]
    },
    {
     "name": "stdout",
     "output_type": "stream",
     "text": [
      "['агенс' 'инструмент' 'место' 'пациенс' 'признак' 'причина']\n"
     ]
    },
    {
     "name": "stderr",
     "output_type": "stream",
     "text": [
      "100%|████████████████████████████████████████████████████████████████████████████████████| 8/8 [00:13<00:00,  1.64s/it]\n",
      " 12%|██████████▌                                                                         | 1/8 [00:00<00:01,  3.74it/s]"
     ]
    },
    {
     "name": "stdout",
     "output_type": "stream",
     "text": [
      "['агенс' 'адресат' 'время' 'инструмент' 'место' 'пациенс' 'признак'\n",
      " 'причина' 'ситуация в фокусе' 'цель' 'экспериенцер']\n",
      "['агенс' 'адресат' 'время' 'инструмент' 'место' 'пациенс' 'признак'\n",
      " 'причина' 'цель' 'экспериенцер']\n"
     ]
    },
    {
     "name": "stderr",
     "output_type": "stream",
     "text": [
      "\r",
      " 25%|█████████████████████                                                               | 2/8 [00:00<00:02,  2.56it/s]"
     ]
    },
    {
     "name": "stdout",
     "output_type": "stream",
     "text": [
      "['агенс' 'время' 'инструмент' 'место' 'пациенс' 'признак' 'причина'\n",
      " 'экспериенцер']\n"
     ]
    },
    {
     "name": "stderr",
     "output_type": "stream",
     "text": [
      "\r",
      " 38%|███████████████████████████████▌                                                    | 3/8 [00:01<00:02,  1.85it/s]"
     ]
    },
    {
     "name": "stdout",
     "output_type": "stream",
     "text": [
      "['агенс' 'время' 'инструмент' 'место' 'пациенс' 'признак' 'причина'\n",
      " 'экспериенцер']\n"
     ]
    },
    {
     "name": "stderr",
     "output_type": "stream",
     "text": [
      "\r",
      " 50%|██████████████████████████████████████████                                          | 4/8 [00:03<00:03,  1.28it/s]"
     ]
    },
    {
     "name": "stdout",
     "output_type": "stream",
     "text": [
      "['агенс' 'время' 'инструмент' 'место' 'пациенс' 'признак' 'причина']\n"
     ]
    },
    {
     "name": "stderr",
     "output_type": "stream",
     "text": [
      "\r",
      " 62%|████████████████████████████████████████████████████▌                               | 5/8 [00:04<00:03,  1.03s/it]"
     ]
    },
    {
     "name": "stdout",
     "output_type": "stream",
     "text": [
      "['агенс' 'время' 'инструмент' 'место' 'пациенс' 'признак' 'причина']\n"
     ]
    },
    {
     "name": "stderr",
     "output_type": "stream",
     "text": [
      "\r",
      " 75%|███████████████████████████████████████████████████████████████                     | 6/8 [00:06<00:02,  1.38s/it]"
     ]
    },
    {
     "name": "stdout",
     "output_type": "stream",
     "text": [
      "['агенс' 'время' 'инструмент' 'место' 'пациенс' 'признак' 'причина']\n"
     ]
    },
    {
     "name": "stderr",
     "output_type": "stream",
     "text": [
      "\r",
      " 88%|█████████████████████████████████████████████████████████████████████████▌          | 7/8 [00:09<00:01,  1.82s/it]"
     ]
    },
    {
     "name": "stdout",
     "output_type": "stream",
     "text": [
      "['агенс' 'инструмент' 'место' 'пациенс' 'признак' 'причина']\n"
     ]
    },
    {
     "name": "stderr",
     "output_type": "stream",
     "text": [
      "100%|████████████████████████████████████████████████████████████████████████████████████| 8/8 [00:12<00:00,  1.61s/it]\n"
     ]
    }
   ],
   "source": [
    "whats_with_context2(big_df)"
   ]
  },
  {
   "cell_type": "markdown",
   "metadata": {},
   "source": [
    "### без контекста качество лучше"
   ]
  },
  {
   "cell_type": "markdown",
   "metadata": {},
   "source": [
    "### с оптимальным размером выборки"
   ]
  },
  {
   "cell_type": "markdown",
   "metadata": {},
   "source": [
    "выборка = 600 "
   ]
  },
  {
   "cell_type": "code",
   "execution_count": 10,
   "metadata": {},
   "outputs": [],
   "source": [
    "def get_samples(big_df2, num=600):\n",
    "    counts = pd.DataFrame(big_df2['Role'].value_counts())\n",
    "    counts.rename(columns={'Role': 'Count'}, inplace=True)\n",
    "    counts = counts[counts['Count'] > num]\n",
    "    to_take = list(counts.index)\n",
    "    res = pd.DataFrame([])\n",
    "    for role in to_take:\n",
    "        role_samples = big_df2[big_df2['Role'] == role].sample(n=num, random_state=1)\n",
    "        res = res.append(role_samples, ignore_index=True)\n",
    "    return res"
   ]
  },
  {
   "cell_type": "code",
   "execution_count": 11,
   "metadata": {},
   "outputs": [],
   "source": [
    "more_than_600 = get_samples(big_df)"
   ]
  },
  {
   "cell_type": "code",
   "execution_count": 12,
   "metadata": {},
   "outputs": [
    {
     "data": {
      "text/plain": [
       "array(['пациенс', 'место', 'агенс', 'инструмент', 'причина', 'признак',\n",
       "       'время'], dtype=object)"
      ]
     },
     "execution_count": 12,
     "metadata": {},
     "output_type": "execute_result"
    }
   ],
   "source": [
    "more_than_600['Role'].unique()"
   ]
  },
  {
   "cell_type": "markdown",
   "metadata": {},
   "source": [
    "RandomForest importance of feature"
   ]
  },
  {
   "cell_type": "code",
   "execution_count": 15,
   "metadata": {},
   "outputs": [],
   "source": [
    "enc_features = features(more_than_600, 'Role')"
   ]
  },
  {
   "cell_type": "code",
   "execution_count": 16,
   "metadata": {},
   "outputs": [
    {
     "name": "stdout",
     "output_type": "stream",
     "text": [
      "['агенс' 'время' 'инструмент' 'место' 'пациенс' 'признак' 'причина']\n"
     ]
    }
   ],
   "source": [
    "x, y, le_classes = get_X_Y(more_than_600, enc_features)"
   ]
  },
  {
   "cell_type": "code",
   "execution_count": 17,
   "metadata": {},
   "outputs": [],
   "source": [
    "train_x, test_x, train_y, test_y = train_test_split(x, \n",
    "                                                    y,\n",
    "                                                    test_size=0.3, \n",
    "                                                    random_state=42)"
   ]
  },
  {
   "cell_type": "code",
   "execution_count": 23,
   "metadata": {},
   "outputs": [
    {
     "data": {
      "text/plain": [
       "RandomForestClassifier(n_estimators=10, n_jobs=-1, random_state=3)"
      ]
     },
     "execution_count": 23,
     "metadata": {},
     "output_type": "execute_result"
    }
   ],
   "source": [
    "mod = ensemble.RandomForestClassifier(random_state=3, n_estimators=10, n_jobs=-1)\n",
    "mod.fit(train_x, train_y)\n",
    "# model(mod, train_x, train_y, test_x, test_y, le_classes)"
   ]
  },
  {
   "cell_type": "code",
   "execution_count": 13,
   "metadata": {},
   "outputs": [],
   "source": [
    "import collections"
   ]
  },
  {
   "cell_type": "code",
   "execution_count": 27,
   "metadata": {},
   "outputs": [
    {
     "name": "stdout",
     "output_type": "stream",
     "text": [
      "Last_word 0.04356659495397625\n",
      "lemma 0.05051845122762426\n",
      "left_context 0.37992012495088257\n",
      "right_context 0.3169143141714098\n",
      "Rank 0.05043072998767556\n",
      "pos 0.003756221379007031\n",
      "case 0.03245834009143578\n",
      "gender 0.008648960587688265\n",
      "animacy 0.014880497387154417\n",
      "number 0.008645961200236476\n",
      "link_name 0.01522398676289037\n",
      "t 0.048362435808548224\n",
      "r 0.02667338149147074\n",
      "0.9999999999999998\n"
     ]
    }
   ],
   "source": [
    "def check_importance(enc_features, mod):\n",
    "    importance = mod.feature_importances_\n",
    "    # summarize feature importance\n",
    "    important_d = collections.defaultdict(int)\n",
    "\n",
    "\n",
    "# 'PlaceC', 'Phrase', 'Form', 'Role', 'Rank', 'Last_word', 'pos', 'case',\n",
    "#        'gender', 'animacy', 'number', 'lemma', 'link_name', 't', 'r',\n",
    "#        'left_context', 'right_context'\n",
    "        \n",
    "    for i,v in enumerate(importance):\n",
    "        col = enc_features.columns[i] #enc_features_con.columns[i] # \n",
    "        if col.startswith('Last_word_'):\n",
    "            important_d['Last_word'] += v\n",
    "        elif col.startswith('lemma_'):\n",
    "            important_d['lemma'] += v\n",
    "        elif col.startswith('left_context_'):\n",
    "            important_d['left_context'] += v\n",
    "        elif col.startswith('right_context_'):\n",
    "            important_d['right_context'] += v\n",
    "        elif col.startswith('Role'):\n",
    "            important_d['Role'] += v\n",
    "        elif col.startswith('Rank'):\n",
    "            important_d['Rank'] += v\n",
    "        elif col.startswith('pos'):\n",
    "            important_d['pos'] += v\n",
    "        elif col.startswith('case'):\n",
    "            important_d['case'] += v\n",
    "        elif col.startswith('gender'):\n",
    "            important_d['gender'] += v\n",
    "        elif col.startswith('animacy'):\n",
    "            important_d['animacy'] += v\n",
    "        elif col.startswith('number'):\n",
    "            important_d['number'] += v\n",
    "        elif col.startswith('link_name'):\n",
    "            important_d['link_name'] += v\n",
    "        elif col.startswith('t'):\n",
    "            important_d['t'] += v\n",
    "        elif col.startswith('r'):\n",
    "            important_d['r'] += v\n",
    "    return important_d\n",
    "    \n",
    "important_d = check_importance(enc_features, mod)\n",
    "summ = 0\n",
    "for key in important_d:\n",
    "    summ += important_d[key]\n",
    "    print(key, important_d[key])\n",
    "print(summ)"
   ]
  },
  {
   "cell_type": "markdown",
   "metadata": {},
   "source": [
    "importance without context"
   ]
  },
  {
   "cell_type": "code",
   "execution_count": 28,
   "metadata": {},
   "outputs": [],
   "source": [
    "more_than_600 = more_than_600.drop(['left_context', 'right_context'], axis='columns')"
   ]
  },
  {
   "cell_type": "code",
   "execution_count": 29,
   "metadata": {},
   "outputs": [
    {
     "data": {
      "text/plain": [
       "Index(['Role', 'Rank', 'Last_word', 'pos', 'case', 'gender', 'animacy',\n",
       "       'number', 'lemma', 'link_name', 't', 'r'],\n",
       "      dtype='object')"
      ]
     },
     "execution_count": 29,
     "metadata": {},
     "output_type": "execute_result"
    }
   ],
   "source": [
    "more_than_600.columns"
   ]
  },
  {
   "cell_type": "code",
   "execution_count": 30,
   "metadata": {},
   "outputs": [],
   "source": [
    "enc_features = features(more_than_600, 'Role')"
   ]
  },
  {
   "cell_type": "code",
   "execution_count": 31,
   "metadata": {},
   "outputs": [
    {
     "name": "stdout",
     "output_type": "stream",
     "text": [
      "['агенс' 'время' 'инструмент' 'место' 'пациенс' 'признак' 'причина']\n"
     ]
    }
   ],
   "source": [
    "x, y, le_classes = get_X_Y(more_than_600, enc_features)"
   ]
  },
  {
   "cell_type": "code",
   "execution_count": 32,
   "metadata": {},
   "outputs": [],
   "source": [
    "train_x, test_x, train_y, test_y = train_test_split(x, \n",
    "                                                    y,\n",
    "                                                    test_size=0.3, \n",
    "                                                    random_state=42)"
   ]
  },
  {
   "cell_type": "code",
   "execution_count": 33,
   "metadata": {},
   "outputs": [
    {
     "data": {
      "text/plain": [
       "RandomForestClassifier(n_estimators=10, n_jobs=-1, random_state=3)"
      ]
     },
     "execution_count": 33,
     "metadata": {},
     "output_type": "execute_result"
    }
   ],
   "source": [
    "mod = ensemble.RandomForestClassifier(random_state=3, n_estimators=10, n_jobs=-1)\n",
    "mod.fit(train_x, train_y)\n",
    "# model(mod, train_x, train_y, test_x, test_y, le_classes)"
   ]
  },
  {
   "cell_type": "markdown",
   "metadata": {},
   "source": [
    "форма слова, его лемма, таксономический класс"
   ]
  },
  {
   "cell_type": "code",
   "execution_count": 34,
   "metadata": {},
   "outputs": [
    {
     "name": "stdout",
     "output_type": "stream",
     "text": [
      "Last_word 0.2682494335407196\n",
      "lemma 0.2668529717806488\n",
      "Rank 0.06603136033189422\n",
      "pos 0.007037305690465135\n",
      "case 0.057524824784311625\n",
      "gender 0.03656652074637265\n",
      "animacy 0.030167227203439013\n",
      "number 0.02892447146820956\n",
      "link_name 0.04345552631037105\n",
      "t 0.14033255489713845\n",
      "r 0.05485780324642978\n",
      "1.0\n"
     ]
    }
   ],
   "source": [
    "important_d = check_importance(enc_features, mod)\n",
    "summ = 0\n",
    "for key in important_d:\n",
    "    summ += important_d[key]\n",
    "    print(key, important_d[key])\n",
    "print(summ)"
   ]
  },
  {
   "cell_type": "markdown",
   "metadata": {},
   "source": [
    "без леммы"
   ]
  },
  {
   "cell_type": "code",
   "execution_count": 35,
   "metadata": {},
   "outputs": [],
   "source": [
    "more_than_600 = more_than_600.drop(['lemma'], axis='columns')"
   ]
  },
  {
   "cell_type": "code",
   "execution_count": 36,
   "metadata": {},
   "outputs": [
    {
     "data": {
      "text/plain": [
       "Index(['Role', 'Rank', 'Last_word', 'pos', 'case', 'gender', 'animacy',\n",
       "       'number', 'link_name', 't', 'r'],\n",
       "      dtype='object')"
      ]
     },
     "execution_count": 36,
     "metadata": {},
     "output_type": "execute_result"
    }
   ],
   "source": [
    "more_than_600.columns"
   ]
  },
  {
   "cell_type": "markdown",
   "metadata": {},
   "source": []
  },
  {
   "cell_type": "code",
   "execution_count": 70,
   "metadata": {},
   "outputs": [],
   "source": [
    "more_than_600.to_csv('more_than_600.tsv', index=False, sep='\\t')  "
   ]
  },
  {
   "cell_type": "code",
   "execution_count": 37,
   "metadata": {},
   "outputs": [],
   "source": [
    "enc_features = features(more_than_600, 'Role')"
   ]
  },
  {
   "cell_type": "code",
   "execution_count": 38,
   "metadata": {},
   "outputs": [
    {
     "name": "stdout",
     "output_type": "stream",
     "text": [
      "['агенс' 'время' 'инструмент' 'место' 'пациенс' 'признак' 'причина']\n"
     ]
    }
   ],
   "source": [
    "x, y, le_classes = get_X_Y(more_than_600, enc_features)"
   ]
  },
  {
   "cell_type": "code",
   "execution_count": 39,
   "metadata": {},
   "outputs": [],
   "source": [
    "train_x, test_x, train_y, test_y = train_test_split(x, \n",
    "                                                    y,\n",
    "                                                    test_size=0.3, \n",
    "                                                    random_state=42)"
   ]
  },
  {
   "cell_type": "code",
   "execution_count": 40,
   "metadata": {},
   "outputs": [
    {
     "data": {
      "text/plain": [
       "RandomForestClassifier(n_estimators=10, n_jobs=-1, random_state=3)"
      ]
     },
     "execution_count": 40,
     "metadata": {},
     "output_type": "execute_result"
    }
   ],
   "source": [
    "mod = ensemble.RandomForestClassifier(random_state=3, n_estimators=10, n_jobs=-1)\n",
    "mod.fit(train_x, train_y)\n",
    "# model(mod, train_x, train_y, test_x, test_y, le_classes)"
   ]
  },
  {
   "cell_type": "markdown",
   "metadata": {},
   "source": [
    "форма слова, таксономический класс"
   ]
  },
  {
   "cell_type": "code",
   "execution_count": 41,
   "metadata": {},
   "outputs": [
    {
     "name": "stdout",
     "output_type": "stream",
     "text": [
      "Last_word 0.4231605353304962\n",
      "Rank 0.07156768062969573\n",
      "pos 0.006785294685876538\n",
      "case 0.06798778195948318\n",
      "gender 0.04743637456853142\n",
      "animacy 0.03765432477020125\n",
      "number 0.03278880026513062\n",
      "link_name 0.05998532133915069\n",
      "t 0.19010101440926258\n",
      "r 0.06253287204217169\n",
      "0.9999999999999999\n"
     ]
    }
   ],
   "source": [
    "important_d = check_importance(enc_features, mod)\n",
    "summ = 0\n",
    "for key in important_d:\n",
    "    summ += important_d[key]\n",
    "    print(key, important_d[key])\n",
    "print(summ)"
   ]
  },
  {
   "cell_type": "code",
   "execution_count": 43,
   "metadata": {},
   "outputs": [
    {
     "name": "stdout",
     "output_type": "stream",
     "text": [
      "              precision    recall  f1-score   support\n",
      "\n",
      "       агенс       0.44      0.41      0.42       174\n",
      "       время       0.81      0.79      0.80       187\n",
      "  инструмент       0.46      0.52      0.49       178\n",
      "       место       0.51      0.56      0.53       180\n",
      "     пациенс       0.48      0.42      0.45       202\n",
      "     признак       0.32      0.33      0.33       168\n",
      "     причина       0.29      0.27      0.28       171\n",
      "\n",
      "    accuracy                           0.48      1260\n",
      "   macro avg       0.47      0.47      0.47      1260\n",
      "weighted avg       0.48      0.48      0.48      1260\n",
      "\n"
     ]
    }
   ],
   "source": [
    "print(metrics.classification_report(test_y, mod.predict(test_x),\n",
    "                                  target_names=le_classes))"
   ]
  },
  {
   "cell_type": "code",
   "execution_count": 48,
   "metadata": {},
   "outputs": [],
   "source": [
    "def big_report(model, name, df_report=pd.DataFrame([])):\n",
    "#     df_report = pd.DataFrame([])\n",
    "    \n",
    "    report = metrics.classification_report(test_y, model.predict(test_x),\n",
    "                                  target_names=le_classes, output_dict=True)\n",
    "   \n",
    "    df_report = pd.concat([df_report, pd.DataFrame(report).transpose().add_prefix(name+'_')[name+'_f1-score']], axis=1)\n",
    "    return df_report \n",
    "    \n",
    "#     return pd.DataFrame(report).transpose()['f1-score'].add_prefix(name)"
   ]
  },
  {
   "cell_type": "code",
   "execution_count": 49,
   "metadata": {},
   "outputs": [],
   "source": [
    "rep = big_report(mod, 'RandomForest')"
   ]
  },
  {
   "cell_type": "markdown",
   "metadata": {},
   "source": [
    "### other models"
   ]
  },
  {
   "cell_type": "markdown",
   "metadata": {},
   "source": [
    "### knn"
   ]
  },
  {
   "cell_type": "code",
   "execution_count": 45,
   "metadata": {},
   "outputs": [],
   "source": [
    "def best_k_knn(train_x, train_y, test_x, test_y):\n",
    "    error_rate = []\n",
    "    for i in tqdm(range(1,40)):\n",
    "        knn = KNeighborsClassifier(n_neighbors=i)\n",
    "        knn.fit(train_x, train_y)\n",
    "        pred_i = knn.predict(test_x)\n",
    "        error_rate.append((knn, np.mean(pred_i != test_y)))\n",
    "    best = sorted(error_rate, key=lambda x: x[1])[0]\n",
    "    return best[0]"
   ]
  },
  {
   "cell_type": "code",
   "execution_count": 46,
   "metadata": {
    "scrolled": true
   },
   "outputs": [
    {
     "name": "stderr",
     "output_type": "stream",
     "text": [
      "100%|██████████████████████████████████████████████████████████████████████████████████| 39/39 [00:26<00:00,  1.46it/s]\n"
     ]
    }
   ],
   "source": [
    "the_mod = best_k_knn(train_x, train_y, test_x, test_y)"
   ]
  },
  {
   "cell_type": "markdown",
   "metadata": {},
   "source": [
    "best k == 28"
   ]
  },
  {
   "cell_type": "code",
   "execution_count": 47,
   "metadata": {},
   "outputs": [
    {
     "name": "stdout",
     "output_type": "stream",
     "text": [
      "KNeighborsClassifier(n_neighbors=28)\n"
     ]
    }
   ],
   "source": [
    "print(the_mod)"
   ]
  },
  {
   "cell_type": "code",
   "execution_count": 53,
   "metadata": {},
   "outputs": [],
   "source": [
    "rep = big_report(the_mod, 'KNeighborsClassifier', rep)"
   ]
  },
  {
   "cell_type": "markdown",
   "metadata": {},
   "source": [
    "### SVM"
   ]
  },
  {
   "cell_type": "code",
   "execution_count": 55,
   "metadata": {},
   "outputs": [],
   "source": [
    "from sklearn.svm import SVC"
   ]
  },
  {
   "cell_type": "code",
   "execution_count": 56,
   "metadata": {},
   "outputs": [
    {
     "name": "stdout",
     "output_type": "stream",
     "text": [
      "Затраченное время: 0:00:35.213995\n"
     ]
    }
   ],
   "source": [
    "start_time = datetime.now()\n",
    "svm_classifier = SVC(decision_function_shape='ovr')\n",
    "svm_classifier.fit(train_x, train_y)\n",
    "\n",
    "rep = big_report(svm_classifier, 'SVC', rep)\n",
    "\n",
    "\n",
    "print('Затраченное время:', datetime.now() - start_time)\n"
   ]
  },
  {
   "cell_type": "markdown",
   "metadata": {},
   "source": [
    "### xgboost"
   ]
  },
  {
   "cell_type": "code",
   "execution_count": 58,
   "metadata": {},
   "outputs": [],
   "source": [
    "from xgboost import XGBClassifier"
   ]
  },
  {
   "cell_type": "code",
   "execution_count": 60,
   "metadata": {},
   "outputs": [],
   "source": [
    "from sklearn.multiclass import OneVsRestClassifier"
   ]
  },
  {
   "cell_type": "code",
   "execution_count": 61,
   "metadata": {
    "collapsed": true
   },
   "outputs": [
    {
     "name": "stderr",
     "output_type": "stream",
     "text": [
      "D:\\anaconda3\\lib\\site-packages\\xgboost\\sklearn.py:1146: UserWarning: The use of label encoder in XGBClassifier is deprecated and will be removed in a future release. To remove this warning, do the following: 1) Pass option use_label_encoder=False when constructing XGBClassifier object; and 2) Encode your labels (y) as integers starting with 0, i.e. 0, 1, 2, ..., [num_class - 1].\n",
      "  warnings.warn(label_encoder_deprecation_msg, UserWarning)\n"
     ]
    },
    {
     "name": "stdout",
     "output_type": "stream",
     "text": [
      "[09:43:12] WARNING: C:/Users/Administrator/workspace/xgboost-win64_release_1.4.0/src/learner.cc:1095: Starting in XGBoost 1.3.0, the default evaluation metric used with the objective 'binary:logistic' was changed from 'error' to 'logloss'. Explicitly set eval_metric if you'd like to restore the old behavior.\n",
      "[09:43:30] WARNING: C:/Users/Administrator/workspace/xgboost-win64_release_1.4.0/src/learner.cc:1095: Starting in XGBoost 1.3.0, the default evaluation metric used with the objective 'binary:logistic' was changed from 'error' to 'logloss'. Explicitly set eval_metric if you'd like to restore the old behavior.\n",
      "[09:43:47] WARNING: C:/Users/Administrator/workspace/xgboost-win64_release_1.4.0/src/learner.cc:1095: Starting in XGBoost 1.3.0, the default evaluation metric used with the objective 'binary:logistic' was changed from 'error' to 'logloss'. Explicitly set eval_metric if you'd like to restore the old behavior.\n",
      "[09:44:03] WARNING: C:/Users/Administrator/workspace/xgboost-win64_release_1.4.0/src/learner.cc:1095: Starting in XGBoost 1.3.0, the default evaluation metric used with the objective 'binary:logistic' was changed from 'error' to 'logloss'. Explicitly set eval_metric if you'd like to restore the old behavior.\n",
      "[09:44:19] WARNING: C:/Users/Administrator/workspace/xgboost-win64_release_1.4.0/src/learner.cc:1095: Starting in XGBoost 1.3.0, the default evaluation metric used with the objective 'binary:logistic' was changed from 'error' to 'logloss'. Explicitly set eval_metric if you'd like to restore the old behavior.\n",
      "[09:44:36] WARNING: C:/Users/Administrator/workspace/xgboost-win64_release_1.4.0/src/learner.cc:1095: Starting in XGBoost 1.3.0, the default evaluation metric used with the objective 'binary:logistic' was changed from 'error' to 'logloss'. Explicitly set eval_metric if you'd like to restore the old behavior.\n",
      "[09:44:52] WARNING: C:/Users/Administrator/workspace/xgboost-win64_release_1.4.0/src/learner.cc:1095: Starting in XGBoost 1.3.0, the default evaluation metric used with the objective 'binary:logistic' was changed from 'error' to 'logloss'. Explicitly set eval_metric if you'd like to restore the old behavior.\n",
      "Затраченное время: 0:02:07.995926\n"
     ]
    }
   ],
   "source": [
    "start_time = datetime.now()\n",
    "xgb_classifier = OneVsRestClassifier(XGBClassifier())\n",
    "xgb_classifier.fit(train_x, train_y)\n",
    "rep = big_report(xgb_classifier, 'XGBClassifier', rep)\n",
    "\n",
    "print('Затраченное время:', datetime.now() - start_time)"
   ]
  },
  {
   "cell_type": "code",
   "execution_count": 66,
   "metadata": {},
   "outputs": [
    {
     "data": {
      "text/html": [
       "<div>\n",
       "<style scoped>\n",
       "    .dataframe tbody tr th:only-of-type {\n",
       "        vertical-align: middle;\n",
       "    }\n",
       "\n",
       "    .dataframe tbody tr th {\n",
       "        vertical-align: top;\n",
       "    }\n",
       "\n",
       "    .dataframe thead th {\n",
       "        text-align: right;\n",
       "    }\n",
       "</style>\n",
       "<table border=\"1\" class=\"dataframe\">\n",
       "  <thead>\n",
       "    <tr style=\"text-align: right;\">\n",
       "      <th></th>\n",
       "      <th>RandomForest_f1-score</th>\n",
       "      <th>KNeighborsClassifier_f1-score</th>\n",
       "      <th>SVC_f1-score</th>\n",
       "      <th>XGBClassifier_f1-score</th>\n",
       "    </tr>\n",
       "  </thead>\n",
       "  <tbody>\n",
       "    <tr>\n",
       "      <th>агенс</th>\n",
       "      <td>0.421365</td>\n",
       "      <td>0.472826</td>\n",
       "      <td>0.564516</td>\n",
       "      <td>0.502994</td>\n",
       "    </tr>\n",
       "    <tr>\n",
       "      <th>время</th>\n",
       "      <td>0.802168</td>\n",
       "      <td>0.685446</td>\n",
       "      <td>0.786517</td>\n",
       "      <td>0.788889</td>\n",
       "    </tr>\n",
       "    <tr>\n",
       "      <th>инструмент</th>\n",
       "      <td>0.485488</td>\n",
       "      <td>0.444444</td>\n",
       "      <td>0.485549</td>\n",
       "      <td>0.467033</td>\n",
       "    </tr>\n",
       "    <tr>\n",
       "      <th>место</th>\n",
       "      <td>0.531579</td>\n",
       "      <td>0.535065</td>\n",
       "      <td>0.544081</td>\n",
       "      <td>0.567237</td>\n",
       "    </tr>\n",
       "    <tr>\n",
       "      <th>пациенс</th>\n",
       "      <td>0.447368</td>\n",
       "      <td>0.502674</td>\n",
       "      <td>0.514139</td>\n",
       "      <td>0.463158</td>\n",
       "    </tr>\n",
       "    <tr>\n",
       "      <th>признак</th>\n",
       "      <td>0.325581</td>\n",
       "      <td>0.271186</td>\n",
       "      <td>0.289389</td>\n",
       "      <td>0.302469</td>\n",
       "    </tr>\n",
       "    <tr>\n",
       "      <th>причина</th>\n",
       "      <td>0.283988</td>\n",
       "      <td>0.270627</td>\n",
       "      <td>0.338109</td>\n",
       "      <td>0.349570</td>\n",
       "    </tr>\n",
       "    <tr>\n",
       "      <th>accuracy</th>\n",
       "      <td>0.476190</td>\n",
       "      <td>0.470635</td>\n",
       "      <td>0.508730</td>\n",
       "      <td>0.496032</td>\n",
       "    </tr>\n",
       "    <tr>\n",
       "      <th>macro avg</th>\n",
       "      <td>0.471077</td>\n",
       "      <td>0.454610</td>\n",
       "      <td>0.503186</td>\n",
       "      <td>0.491621</td>\n",
       "    </tr>\n",
       "    <tr>\n",
       "      <th>weighted avg</th>\n",
       "      <td>0.475438</td>\n",
       "      <td>0.459722</td>\n",
       "      <td>0.507902</td>\n",
       "      <td>0.495577</td>\n",
       "    </tr>\n",
       "  </tbody>\n",
       "</table>\n",
       "</div>"
      ],
      "text/plain": [
       "              RandomForest_f1-score  KNeighborsClassifier_f1-score  \\\n",
       "агенс                      0.421365                       0.472826   \n",
       "время                      0.802168                       0.685446   \n",
       "инструмент                 0.485488                       0.444444   \n",
       "место                      0.531579                       0.535065   \n",
       "пациенс                    0.447368                       0.502674   \n",
       "признак                    0.325581                       0.271186   \n",
       "причина                    0.283988                       0.270627   \n",
       "accuracy                   0.476190                       0.470635   \n",
       "macro avg                  0.471077                       0.454610   \n",
       "weighted avg               0.475438                       0.459722   \n",
       "\n",
       "              SVC_f1-score  XGBClassifier_f1-score  \n",
       "агенс             0.564516                0.502994  \n",
       "время             0.786517                0.788889  \n",
       "инструмент        0.485549                0.467033  \n",
       "место             0.544081                0.567237  \n",
       "пациенс           0.514139                0.463158  \n",
       "признак           0.289389                0.302469  \n",
       "причина           0.338109                0.349570  \n",
       "accuracy          0.508730                0.496032  \n",
       "macro avg         0.503186                0.491621  \n",
       "weighted avg      0.507902                0.495577  "
      ]
     },
     "execution_count": 66,
     "metadata": {},
     "output_type": "execute_result"
    }
   ],
   "source": [
    "rep"
   ]
  },
  {
   "cell_type": "markdown",
   "metadata": {},
   "source": [
    "save report with style"
   ]
  },
  {
   "cell_type": "code",
   "execution_count": 68,
   "metadata": {},
   "outputs": [],
   "source": [
    "cm = sns.light_palette(\"green\", as_cmap=True)\n",
    "styled = rep.style.background_gradient(cmap=cm).set_caption(\"600 sample without context&lemma\")\\\n",
    "    .set_table_styles([{\n",
    "        'selector': 'caption',\n",
    "        'props': [\n",
    "            ('color', 'black'),\n",
    "            ('font-size', '16px')\n",
    "        ]\n",
    "    }])\n",
    "    \n",
    "dfi.export(styled, '4_models.png')"
   ]
  },
  {
   "cell_type": "code",
   "execution_count": 69,
   "metadata": {
    "scrolled": true
   },
   "outputs": [
    {
     "data": {
      "text/html": [
       "<style  type=\"text/css\" >\n",
       "    #T_e28b3450_bc5c_11eb_b57d_a402b934ec6a caption {\n",
       "          color: black;\n",
       "          font-size: 16px;\n",
       "    }#T_e28b3450_bc5c_11eb_b57d_a402b934ec6arow0_col0{\n",
       "            background-color:  #add5ad;\n",
       "            color:  #000000;\n",
       "            background-color:  #add5ad;\n",
       "            color:  #000000;\n",
       "        }#T_e28b3450_bc5c_11eb_b57d_a402b934ec6arow0_col1{\n",
       "            background-color:  #78bb78;\n",
       "            color:  #000000;\n",
       "            background-color:  #78bb78;\n",
       "            color:  #000000;\n",
       "        }#T_e28b3450_bc5c_11eb_b57d_a402b934ec6arow0_col2{\n",
       "            background-color:  #69b369;\n",
       "            color:  #000000;\n",
       "            background-color:  #69b369;\n",
       "            color:  #000000;\n",
       "        }#T_e28b3450_bc5c_11eb_b57d_a402b934ec6arow0_col3{\n",
       "            background-color:  #8ac48a;\n",
       "            color:  #000000;\n",
       "            background-color:  #8ac48a;\n",
       "            color:  #000000;\n",
       "        }#T_e28b3450_bc5c_11eb_b57d_a402b934ec6arow1_col0,#T_e28b3450_bc5c_11eb_b57d_a402b934ec6arow1_col1,#T_e28b3450_bc5c_11eb_b57d_a402b934ec6arow1_col2,#T_e28b3450_bc5c_11eb_b57d_a402b934ec6arow1_col3{\n",
       "            background-color:  #008000;\n",
       "            color:  #f1f1f1;\n",
       "            background-color:  #008000;\n",
       "            color:  #f1f1f1;\n",
       "        }#T_e28b3450_bc5c_11eb_b57d_a402b934ec6arow2_col0,#T_e28b3450_bc5c_11eb_b57d_a402b934ec6arow8_col3{\n",
       "            background-color:  #8fc68f;\n",
       "            color:  #000000;\n",
       "            background-color:  #8fc68f;\n",
       "            color:  #000000;\n",
       "        }#T_e28b3450_bc5c_11eb_b57d_a402b934ec6arow2_col1{\n",
       "            background-color:  #88c388;\n",
       "            color:  #000000;\n",
       "            background-color:  #88c388;\n",
       "            color:  #000000;\n",
       "        }#T_e28b3450_bc5c_11eb_b57d_a402b934ec6arow2_col2,#T_e28b3450_bc5c_11eb_b57d_a402b934ec6arow7_col3,#T_e28b3450_bc5c_11eb_b57d_a402b934ec6arow9_col3{\n",
       "            background-color:  #8ec58e;\n",
       "            color:  #000000;\n",
       "            background-color:  #8ec58e;\n",
       "            color:  #000000;\n",
       "        }#T_e28b3450_bc5c_11eb_b57d_a402b934ec6arow2_col3{\n",
       "            background-color:  #9bcc9b;\n",
       "            color:  #000000;\n",
       "            background-color:  #9bcc9b;\n",
       "            color:  #000000;\n",
       "        }#T_e28b3450_bc5c_11eb_b57d_a402b934ec6arow3_col0{\n",
       "            background-color:  #7abc7a;\n",
       "            color:  #000000;\n",
       "            background-color:  #7abc7a;\n",
       "            color:  #000000;\n",
       "        }#T_e28b3450_bc5c_11eb_b57d_a402b934ec6arow3_col1{\n",
       "            background-color:  #55a955;\n",
       "            color:  #000000;\n",
       "            background-color:  #55a955;\n",
       "            color:  #000000;\n",
       "        }#T_e28b3450_bc5c_11eb_b57d_a402b934ec6arow3_col2{\n",
       "            background-color:  #72b872;\n",
       "            color:  #000000;\n",
       "            background-color:  #72b872;\n",
       "            color:  #000000;\n",
       "        }#T_e28b3450_bc5c_11eb_b57d_a402b934ec6arow3_col3{\n",
       "            background-color:  #6bb46b;\n",
       "            color:  #000000;\n",
       "            background-color:  #6bb46b;\n",
       "            color:  #000000;\n",
       "        }#T_e28b3450_bc5c_11eb_b57d_a402b934ec6arow4_col0{\n",
       "            background-color:  #a1cfa1;\n",
       "            color:  #000000;\n",
       "            background-color:  #a1cfa1;\n",
       "            color:  #000000;\n",
       "        }#T_e28b3450_bc5c_11eb_b57d_a402b934ec6arow4_col1{\n",
       "            background-color:  #67b267;\n",
       "            color:  #000000;\n",
       "            background-color:  #67b267;\n",
       "            color:  #000000;\n",
       "        }#T_e28b3450_bc5c_11eb_b57d_a402b934ec6arow4_col2{\n",
       "            background-color:  #81bf81;\n",
       "            color:  #000000;\n",
       "            background-color:  #81bf81;\n",
       "            color:  #000000;\n",
       "        }#T_e28b3450_bc5c_11eb_b57d_a402b934ec6arow4_col3{\n",
       "            background-color:  #9dcd9d;\n",
       "            color:  #000000;\n",
       "            background-color:  #9dcd9d;\n",
       "            color:  #000000;\n",
       "        }#T_e28b3450_bc5c_11eb_b57d_a402b934ec6arow5_col0{\n",
       "            background-color:  #d8ead8;\n",
       "            color:  #000000;\n",
       "            background-color:  #d8ead8;\n",
       "            color:  #000000;\n",
       "        }#T_e28b3450_bc5c_11eb_b57d_a402b934ec6arow5_col1,#T_e28b3450_bc5c_11eb_b57d_a402b934ec6arow5_col2,#T_e28b3450_bc5c_11eb_b57d_a402b934ec6arow5_col3,#T_e28b3450_bc5c_11eb_b57d_a402b934ec6arow6_col0,#T_e28b3450_bc5c_11eb_b57d_a402b934ec6arow6_col1{\n",
       "            background-color:  #ebf3eb;\n",
       "            color:  #000000;\n",
       "            background-color:  #ebf3eb;\n",
       "            color:  #000000;\n",
       "        }#T_e28b3450_bc5c_11eb_b57d_a402b934ec6arow6_col2,#T_e28b3450_bc5c_11eb_b57d_a402b934ec6arow6_col3{\n",
       "            background-color:  #d4e8d4;\n",
       "            color:  #000000;\n",
       "            background-color:  #d4e8d4;\n",
       "            color:  #000000;\n",
       "        }#T_e28b3450_bc5c_11eb_b57d_a402b934ec6arow7_col0,#T_e28b3450_bc5c_11eb_b57d_a402b934ec6arow9_col0{\n",
       "            background-color:  #94c994;\n",
       "            color:  #000000;\n",
       "            background-color:  #94c994;\n",
       "            color:  #000000;\n",
       "        }#T_e28b3450_bc5c_11eb_b57d_a402b934ec6arow7_col1{\n",
       "            background-color:  #79bc79;\n",
       "            color:  #000000;\n",
       "            background-color:  #79bc79;\n",
       "            color:  #000000;\n",
       "        }#T_e28b3450_bc5c_11eb_b57d_a402b934ec6arow7_col2,#T_e28b3450_bc5c_11eb_b57d_a402b934ec6arow9_col2{\n",
       "            background-color:  #84c084;\n",
       "            color:  #000000;\n",
       "            background-color:  #84c084;\n",
       "            color:  #000000;\n",
       "        }#T_e28b3450_bc5c_11eb_b57d_a402b934ec6arow8_col0{\n",
       "            background-color:  #96c996;\n",
       "            color:  #000000;\n",
       "            background-color:  #96c996;\n",
       "            color:  #000000;\n",
       "        }#T_e28b3450_bc5c_11eb_b57d_a402b934ec6arow8_col1{\n",
       "            background-color:  #83c083;\n",
       "            color:  #000000;\n",
       "            background-color:  #83c083;\n",
       "            color:  #000000;\n",
       "        }#T_e28b3450_bc5c_11eb_b57d_a402b934ec6arow8_col2{\n",
       "            background-color:  #85c185;\n",
       "            color:  #000000;\n",
       "            background-color:  #85c185;\n",
       "            color:  #000000;\n",
       "        }#T_e28b3450_bc5c_11eb_b57d_a402b934ec6arow9_col1{\n",
       "            background-color:  #80bf80;\n",
       "            color:  #000000;\n",
       "            background-color:  #80bf80;\n",
       "            color:  #000000;\n",
       "        }</style><table id=\"T_e28b3450_bc5c_11eb_b57d_a402b934ec6a\" ><caption>600 sample without context&lemma</caption><thead>    <tr>        <th class=\"blank level0\" ></th>        <th class=\"col_heading level0 col0\" >RandomForest_f1-score</th>        <th class=\"col_heading level0 col1\" >KNeighborsClassifier_f1-score</th>        <th class=\"col_heading level0 col2\" >SVC_f1-score</th>        <th class=\"col_heading level0 col3\" >XGBClassifier_f1-score</th>    </tr></thead><tbody>\n",
       "                <tr>\n",
       "                        <th id=\"T_e28b3450_bc5c_11eb_b57d_a402b934ec6alevel0_row0\" class=\"row_heading level0 row0\" >агенс</th>\n",
       "                        <td id=\"T_e28b3450_bc5c_11eb_b57d_a402b934ec6arow0_col0\" class=\"data row0 col0\" >0.421365</td>\n",
       "                        <td id=\"T_e28b3450_bc5c_11eb_b57d_a402b934ec6arow0_col1\" class=\"data row0 col1\" >0.472826</td>\n",
       "                        <td id=\"T_e28b3450_bc5c_11eb_b57d_a402b934ec6arow0_col2\" class=\"data row0 col2\" >0.564516</td>\n",
       "                        <td id=\"T_e28b3450_bc5c_11eb_b57d_a402b934ec6arow0_col3\" class=\"data row0 col3\" >0.502994</td>\n",
       "            </tr>\n",
       "            <tr>\n",
       "                        <th id=\"T_e28b3450_bc5c_11eb_b57d_a402b934ec6alevel0_row1\" class=\"row_heading level0 row1\" >время</th>\n",
       "                        <td id=\"T_e28b3450_bc5c_11eb_b57d_a402b934ec6arow1_col0\" class=\"data row1 col0\" >0.802168</td>\n",
       "                        <td id=\"T_e28b3450_bc5c_11eb_b57d_a402b934ec6arow1_col1\" class=\"data row1 col1\" >0.685446</td>\n",
       "                        <td id=\"T_e28b3450_bc5c_11eb_b57d_a402b934ec6arow1_col2\" class=\"data row1 col2\" >0.786517</td>\n",
       "                        <td id=\"T_e28b3450_bc5c_11eb_b57d_a402b934ec6arow1_col3\" class=\"data row1 col3\" >0.788889</td>\n",
       "            </tr>\n",
       "            <tr>\n",
       "                        <th id=\"T_e28b3450_bc5c_11eb_b57d_a402b934ec6alevel0_row2\" class=\"row_heading level0 row2\" >инструмент</th>\n",
       "                        <td id=\"T_e28b3450_bc5c_11eb_b57d_a402b934ec6arow2_col0\" class=\"data row2 col0\" >0.485488</td>\n",
       "                        <td id=\"T_e28b3450_bc5c_11eb_b57d_a402b934ec6arow2_col1\" class=\"data row2 col1\" >0.444444</td>\n",
       "                        <td id=\"T_e28b3450_bc5c_11eb_b57d_a402b934ec6arow2_col2\" class=\"data row2 col2\" >0.485549</td>\n",
       "                        <td id=\"T_e28b3450_bc5c_11eb_b57d_a402b934ec6arow2_col3\" class=\"data row2 col3\" >0.467033</td>\n",
       "            </tr>\n",
       "            <tr>\n",
       "                        <th id=\"T_e28b3450_bc5c_11eb_b57d_a402b934ec6alevel0_row3\" class=\"row_heading level0 row3\" >место</th>\n",
       "                        <td id=\"T_e28b3450_bc5c_11eb_b57d_a402b934ec6arow3_col0\" class=\"data row3 col0\" >0.531579</td>\n",
       "                        <td id=\"T_e28b3450_bc5c_11eb_b57d_a402b934ec6arow3_col1\" class=\"data row3 col1\" >0.535065</td>\n",
       "                        <td id=\"T_e28b3450_bc5c_11eb_b57d_a402b934ec6arow3_col2\" class=\"data row3 col2\" >0.544081</td>\n",
       "                        <td id=\"T_e28b3450_bc5c_11eb_b57d_a402b934ec6arow3_col3\" class=\"data row3 col3\" >0.567237</td>\n",
       "            </tr>\n",
       "            <tr>\n",
       "                        <th id=\"T_e28b3450_bc5c_11eb_b57d_a402b934ec6alevel0_row4\" class=\"row_heading level0 row4\" >пациенс</th>\n",
       "                        <td id=\"T_e28b3450_bc5c_11eb_b57d_a402b934ec6arow4_col0\" class=\"data row4 col0\" >0.447368</td>\n",
       "                        <td id=\"T_e28b3450_bc5c_11eb_b57d_a402b934ec6arow4_col1\" class=\"data row4 col1\" >0.502674</td>\n",
       "                        <td id=\"T_e28b3450_bc5c_11eb_b57d_a402b934ec6arow4_col2\" class=\"data row4 col2\" >0.514139</td>\n",
       "                        <td id=\"T_e28b3450_bc5c_11eb_b57d_a402b934ec6arow4_col3\" class=\"data row4 col3\" >0.463158</td>\n",
       "            </tr>\n",
       "            <tr>\n",
       "                        <th id=\"T_e28b3450_bc5c_11eb_b57d_a402b934ec6alevel0_row5\" class=\"row_heading level0 row5\" >признак</th>\n",
       "                        <td id=\"T_e28b3450_bc5c_11eb_b57d_a402b934ec6arow5_col0\" class=\"data row5 col0\" >0.325581</td>\n",
       "                        <td id=\"T_e28b3450_bc5c_11eb_b57d_a402b934ec6arow5_col1\" class=\"data row5 col1\" >0.271186</td>\n",
       "                        <td id=\"T_e28b3450_bc5c_11eb_b57d_a402b934ec6arow5_col2\" class=\"data row5 col2\" >0.289389</td>\n",
       "                        <td id=\"T_e28b3450_bc5c_11eb_b57d_a402b934ec6arow5_col3\" class=\"data row5 col3\" >0.302469</td>\n",
       "            </tr>\n",
       "            <tr>\n",
       "                        <th id=\"T_e28b3450_bc5c_11eb_b57d_a402b934ec6alevel0_row6\" class=\"row_heading level0 row6\" >причина</th>\n",
       "                        <td id=\"T_e28b3450_bc5c_11eb_b57d_a402b934ec6arow6_col0\" class=\"data row6 col0\" >0.283988</td>\n",
       "                        <td id=\"T_e28b3450_bc5c_11eb_b57d_a402b934ec6arow6_col1\" class=\"data row6 col1\" >0.270627</td>\n",
       "                        <td id=\"T_e28b3450_bc5c_11eb_b57d_a402b934ec6arow6_col2\" class=\"data row6 col2\" >0.338109</td>\n",
       "                        <td id=\"T_e28b3450_bc5c_11eb_b57d_a402b934ec6arow6_col3\" class=\"data row6 col3\" >0.349570</td>\n",
       "            </tr>\n",
       "            <tr>\n",
       "                        <th id=\"T_e28b3450_bc5c_11eb_b57d_a402b934ec6alevel0_row7\" class=\"row_heading level0 row7\" >accuracy</th>\n",
       "                        <td id=\"T_e28b3450_bc5c_11eb_b57d_a402b934ec6arow7_col0\" class=\"data row7 col0\" >0.476190</td>\n",
       "                        <td id=\"T_e28b3450_bc5c_11eb_b57d_a402b934ec6arow7_col1\" class=\"data row7 col1\" >0.470635</td>\n",
       "                        <td id=\"T_e28b3450_bc5c_11eb_b57d_a402b934ec6arow7_col2\" class=\"data row7 col2\" >0.508730</td>\n",
       "                        <td id=\"T_e28b3450_bc5c_11eb_b57d_a402b934ec6arow7_col3\" class=\"data row7 col3\" >0.496032</td>\n",
       "            </tr>\n",
       "            <tr>\n",
       "                        <th id=\"T_e28b3450_bc5c_11eb_b57d_a402b934ec6alevel0_row8\" class=\"row_heading level0 row8\" >macro avg</th>\n",
       "                        <td id=\"T_e28b3450_bc5c_11eb_b57d_a402b934ec6arow8_col0\" class=\"data row8 col0\" >0.471077</td>\n",
       "                        <td id=\"T_e28b3450_bc5c_11eb_b57d_a402b934ec6arow8_col1\" class=\"data row8 col1\" >0.454610</td>\n",
       "                        <td id=\"T_e28b3450_bc5c_11eb_b57d_a402b934ec6arow8_col2\" class=\"data row8 col2\" >0.503186</td>\n",
       "                        <td id=\"T_e28b3450_bc5c_11eb_b57d_a402b934ec6arow8_col3\" class=\"data row8 col3\" >0.491621</td>\n",
       "            </tr>\n",
       "            <tr>\n",
       "                        <th id=\"T_e28b3450_bc5c_11eb_b57d_a402b934ec6alevel0_row9\" class=\"row_heading level0 row9\" >weighted avg</th>\n",
       "                        <td id=\"T_e28b3450_bc5c_11eb_b57d_a402b934ec6arow9_col0\" class=\"data row9 col0\" >0.475438</td>\n",
       "                        <td id=\"T_e28b3450_bc5c_11eb_b57d_a402b934ec6arow9_col1\" class=\"data row9 col1\" >0.459722</td>\n",
       "                        <td id=\"T_e28b3450_bc5c_11eb_b57d_a402b934ec6arow9_col2\" class=\"data row9 col2\" >0.507902</td>\n",
       "                        <td id=\"T_e28b3450_bc5c_11eb_b57d_a402b934ec6arow9_col3\" class=\"data row9 col3\" >0.495577</td>\n",
       "            </tr>\n",
       "    </tbody></table>"
      ],
      "text/plain": [
       "<pandas.io.formats.style.Styler at 0x1882f868100>"
      ]
     },
     "execution_count": 69,
     "metadata": {},
     "output_type": "execute_result"
    }
   ],
   "source": [
    "styled"
   ]
  },
  {
   "cell_type": "markdown",
   "metadata": {},
   "source": [
    "random_forest - best время 0.8\n",
    "\n",
    "svc - best агенс 0.56 пациенс 0.51 инструмент 0.486\n",
    "\n",
    "xgb - best место 0.57\n",
    "\n",
    "macro & weighted avg - лучше всех у svc"
   ]
  },
  {
   "cell_type": "code",
   "execution_count": null,
   "metadata": {},
   "outputs": [],
   "source": []
  },
  {
   "cell_type": "code",
   "execution_count": null,
   "metadata": {},
   "outputs": [],
   "source": []
  }
 ],
 "metadata": {
  "kernelspec": {
   "display_name": "Python 3",
   "language": "python",
   "name": "python3"
  },
  "language_info": {
   "codemirror_mode": {
    "name": "ipython",
    "version": 3
   },
   "file_extension": ".py",
   "mimetype": "text/x-python",
   "name": "python",
   "nbconvert_exporter": "python",
   "pygments_lexer": "ipython3",
   "version": "3.8.5"
  }
 },
 "nbformat": 4,
 "nbformat_minor": 4
}
